{
  "nbformat": 4,
  "nbformat_minor": 0,
  "metadata": {
    "colab": {
      "name": "twitter_scraper.ipynb",
      "provenance": [],
      "collapsed_sections": [],
      "authorship_tag": "ABX9TyM1JSVUwwTeKS2cDMZ6aoZj",
      "include_colab_link": true
    },
    "kernelspec": {
      "name": "python3",
      "display_name": "Python 3"
    },
    "widgets": {
      "application/vnd.jupyter.widget-state+json": {
        "f52b93b8ecf84998896171dadf5f46bc": {
          "model_module": "@jupyter-widgets/controls",
          "model_name": "HBoxModel",
          "state": {
            "_view_name": "HBoxView",
            "_dom_classes": [],
            "_model_name": "HBoxModel",
            "_view_module": "@jupyter-widgets/controls",
            "_model_module_version": "1.5.0",
            "_view_count": null,
            "_view_module_version": "1.5.0",
            "box_style": "",
            "layout": "IPY_MODEL_51b2f84015e9486ea8e3cca619d0d2a5",
            "_model_module": "@jupyter-widgets/controls",
            "children": [
              "IPY_MODEL_0e2d642a504e48b896ee4a6418c8f1ff",
              "IPY_MODEL_409249f22ed344a295754e11a29969ec"
            ]
          }
        },
        "51b2f84015e9486ea8e3cca619d0d2a5": {
          "model_module": "@jupyter-widgets/base",
          "model_name": "LayoutModel",
          "state": {
            "_view_name": "LayoutView",
            "grid_template_rows": null,
            "right": null,
            "justify_content": null,
            "_view_module": "@jupyter-widgets/base",
            "overflow": null,
            "_model_module_version": "1.2.0",
            "_view_count": null,
            "flex_flow": null,
            "width": null,
            "min_width": null,
            "border": null,
            "align_items": null,
            "bottom": null,
            "_model_module": "@jupyter-widgets/base",
            "top": null,
            "grid_column": null,
            "overflow_y": null,
            "overflow_x": null,
            "grid_auto_flow": null,
            "grid_area": null,
            "grid_template_columns": null,
            "flex": null,
            "_model_name": "LayoutModel",
            "justify_items": null,
            "grid_row": null,
            "max_height": null,
            "align_content": null,
            "visibility": null,
            "align_self": null,
            "height": null,
            "min_height": null,
            "padding": null,
            "grid_auto_rows": null,
            "grid_gap": null,
            "max_width": null,
            "order": null,
            "_view_module_version": "1.2.0",
            "grid_template_areas": null,
            "object_position": null,
            "object_fit": null,
            "grid_auto_columns": null,
            "margin": null,
            "display": null,
            "left": null
          }
        },
        "0e2d642a504e48b896ee4a6418c8f1ff": {
          "model_module": "@jupyter-widgets/controls",
          "model_name": "FloatProgressModel",
          "state": {
            "_view_name": "ProgressView",
            "style": "IPY_MODEL_2a08e1bc48d44fbe9694fd13b27811f7",
            "_dom_classes": [],
            "description": "",
            "_model_name": "FloatProgressModel",
            "bar_style": "success",
            "max": 1,
            "_view_module": "@jupyter-widgets/controls",
            "_model_module_version": "1.5.0",
            "value": 1,
            "_view_count": null,
            "_view_module_version": "1.5.0",
            "orientation": "horizontal",
            "min": 0,
            "description_tooltip": null,
            "_model_module": "@jupyter-widgets/controls",
            "layout": "IPY_MODEL_df0d04f03cbc49e1ab224262ff8034dd"
          }
        },
        "409249f22ed344a295754e11a29969ec": {
          "model_module": "@jupyter-widgets/controls",
          "model_name": "HTMLModel",
          "state": {
            "_view_name": "HTMLView",
            "style": "IPY_MODEL_4d23d506fd404fb1a1cb8e08535f94d3",
            "_dom_classes": [],
            "description": "",
            "_model_name": "HTMLModel",
            "placeholder": "​",
            "_view_module": "@jupyter-widgets/controls",
            "_model_module_version": "1.5.0",
            "value": " 369/? [23:56&lt;00:00,  3.89s/it]",
            "_view_count": null,
            "_view_module_version": "1.5.0",
            "description_tooltip": null,
            "_model_module": "@jupyter-widgets/controls",
            "layout": "IPY_MODEL_5002f08708b548238d1e96c609f3d468"
          }
        },
        "2a08e1bc48d44fbe9694fd13b27811f7": {
          "model_module": "@jupyter-widgets/controls",
          "model_name": "ProgressStyleModel",
          "state": {
            "_view_name": "StyleView",
            "_model_name": "ProgressStyleModel",
            "description_width": "initial",
            "_view_module": "@jupyter-widgets/base",
            "_model_module_version": "1.5.0",
            "_view_count": null,
            "_view_module_version": "1.2.0",
            "bar_color": null,
            "_model_module": "@jupyter-widgets/controls"
          }
        },
        "df0d04f03cbc49e1ab224262ff8034dd": {
          "model_module": "@jupyter-widgets/base",
          "model_name": "LayoutModel",
          "state": {
            "_view_name": "LayoutView",
            "grid_template_rows": null,
            "right": null,
            "justify_content": null,
            "_view_module": "@jupyter-widgets/base",
            "overflow": null,
            "_model_module_version": "1.2.0",
            "_view_count": null,
            "flex_flow": null,
            "width": null,
            "min_width": null,
            "border": null,
            "align_items": null,
            "bottom": null,
            "_model_module": "@jupyter-widgets/base",
            "top": null,
            "grid_column": null,
            "overflow_y": null,
            "overflow_x": null,
            "grid_auto_flow": null,
            "grid_area": null,
            "grid_template_columns": null,
            "flex": null,
            "_model_name": "LayoutModel",
            "justify_items": null,
            "grid_row": null,
            "max_height": null,
            "align_content": null,
            "visibility": null,
            "align_self": null,
            "height": null,
            "min_height": null,
            "padding": null,
            "grid_auto_rows": null,
            "grid_gap": null,
            "max_width": null,
            "order": null,
            "_view_module_version": "1.2.0",
            "grid_template_areas": null,
            "object_position": null,
            "object_fit": null,
            "grid_auto_columns": null,
            "margin": null,
            "display": null,
            "left": null
          }
        },
        "4d23d506fd404fb1a1cb8e08535f94d3": {
          "model_module": "@jupyter-widgets/controls",
          "model_name": "DescriptionStyleModel",
          "state": {
            "_view_name": "StyleView",
            "_model_name": "DescriptionStyleModel",
            "description_width": "",
            "_view_module": "@jupyter-widgets/base",
            "_model_module_version": "1.5.0",
            "_view_count": null,
            "_view_module_version": "1.2.0",
            "_model_module": "@jupyter-widgets/controls"
          }
        },
        "5002f08708b548238d1e96c609f3d468": {
          "model_module": "@jupyter-widgets/base",
          "model_name": "LayoutModel",
          "state": {
            "_view_name": "LayoutView",
            "grid_template_rows": null,
            "right": null,
            "justify_content": null,
            "_view_module": "@jupyter-widgets/base",
            "overflow": null,
            "_model_module_version": "1.2.0",
            "_view_count": null,
            "flex_flow": null,
            "width": null,
            "min_width": null,
            "border": null,
            "align_items": null,
            "bottom": null,
            "_model_module": "@jupyter-widgets/base",
            "top": null,
            "grid_column": null,
            "overflow_y": null,
            "overflow_x": null,
            "grid_auto_flow": null,
            "grid_area": null,
            "grid_template_columns": null,
            "flex": null,
            "_model_name": "LayoutModel",
            "justify_items": null,
            "grid_row": null,
            "max_height": null,
            "align_content": null,
            "visibility": null,
            "align_self": null,
            "height": null,
            "min_height": null,
            "padding": null,
            "grid_auto_rows": null,
            "grid_gap": null,
            "max_width": null,
            "order": null,
            "_view_module_version": "1.2.0",
            "grid_template_areas": null,
            "object_position": null,
            "object_fit": null,
            "grid_auto_columns": null,
            "margin": null,
            "display": null,
            "left": null
          }
        }
      }
    }
  },
  "cells": [
    {
      "cell_type": "markdown",
      "metadata": {
        "id": "view-in-github",
        "colab_type": "text"
      },
      "source": [
        "<a href=\"https://colab.research.google.com/github/Mainakdeb/e_summit/blob/main/twitter_scraper.ipynb\" target=\"_parent\"><img src=\"https://colab.research.google.com/assets/colab-badge.svg\" alt=\"Open In Colab\"/></a>"
      ]
    },
    {
      "cell_type": "code",
      "metadata": {
        "colab": {
          "base_uri": "https://localhost:8080/",
          "height": 383
        },
        "id": "FTFyrmwTx4A5",
        "outputId": "88a0ef09-2a6a-4a0c-80b7-0d2e41500f58"
      },
      "source": [
        "!pip3 install socialreaper==0.3.0"
      ],
      "execution_count": 11,
      "outputs": [
        {
          "output_type": "stream",
          "text": [
            "Collecting socialreaper==0.3.0\n",
            "  Downloading https://files.pythonhosted.org/packages/db/b4/c2999e4d21c3ed9112f87ef2838b7e4e338f0da28bf76fd704fffe4fefea/socialreaper-0.3.0-py3-none-any.whl\n",
            "Requirement already satisfied: requests-oauthlib>=0.7.0 in /usr/local/lib/python3.6/dist-packages (from socialreaper==0.3.0) (1.3.0)\n",
            "Requirement already satisfied: oauthlib>=2.0.1 in /usr/local/lib/python3.6/dist-packages (from socialreaper==0.3.0) (3.1.0)\n",
            "Requirement already satisfied: requests>=2.11.1 in /usr/local/lib/python3.6/dist-packages (from socialreaper==0.3.0) (2.23.0)\n",
            "Requirement already satisfied: chardet<4,>=3.0.2 in /usr/local/lib/python3.6/dist-packages (from requests>=2.11.1->socialreaper==0.3.0) (3.0.4)\n",
            "Requirement already satisfied: idna<3,>=2.5 in /usr/local/lib/python3.6/dist-packages (from requests>=2.11.1->socialreaper==0.3.0) (2.10)\n",
            "Requirement already satisfied: urllib3!=1.25.0,!=1.25.1,<1.26,>=1.21.1 in /usr/local/lib/python3.6/dist-packages (from requests>=2.11.1->socialreaper==0.3.0) (1.24.3)\n",
            "Requirement already satisfied: certifi>=2017.4.17 in /usr/local/lib/python3.6/dist-packages (from requests>=2.11.1->socialreaper==0.3.0) (2020.12.5)\n",
            "Installing collected packages: socialreaper\n",
            "  Found existing installation: socialreaper 1.0.3\n",
            "    Uninstalling socialreaper-1.0.3:\n",
            "      Successfully uninstalled socialreaper-1.0.3\n",
            "Successfully installed socialreaper-0.3.0\n"
          ],
          "name": "stdout"
        },
        {
          "output_type": "display_data",
          "data": {
            "application/vnd.colab-display-data+json": {
              "pip_warning": {
                "packages": [
                  "socialreaper"
                ]
              }
            }
          },
          "metadata": {
            "tags": []
          }
        }
      ]
    },
    {
      "cell_type": "code",
      "metadata": {
        "id": "gKsWXeGbaoUH"
      },
      "source": [
        "from socialreaper import Twitter\r\n",
        "from socialreaper.tools import to_csv\r\n",
        "import re\r\n",
        "from tqdm import tqdm_notebook\r\n",
        "import os"
      ],
      "execution_count": 151,
      "outputs": []
    },
    {
      "cell_type": "code",
      "metadata": {
        "id": "48ji_aR86DEh"
      },
      "source": [
        "twt = Twitter(app_key=\"D4ZZmYaatUIesltdD7ilZ5VK9\", app_secret=\"D3KjNfxvLoRBrffHYkajfukEneLqcUs0mUoeJbazrFDyzgckBW\", oauth_token=\"1292034807057149952-yxoCr1imusLdTbP1FohM8DEsUFISRU\", \r\n",
        "    oauth_token_secret=\"Zem3oIHV5ujHEnzATgUBnEqRNOXhpfzNCzmxnZFmmoc3K\")\r\n",
        "    \r\n",
        "tweets = twt.user(\"elonmusk\", count=500, exclude_replies=True, \r\n",
        "    include_retweets=False)\r\n",
        "\r\n",
        "to_csv(list(tweets), filename='musk_500.csv')"
      ],
      "execution_count": 130,
      "outputs": []
    },
    {
      "cell_type": "code",
      "metadata": {
        "id": "HGwcQiQ16C_D"
      },
      "source": [
        "tweets_df = pd.read_csv(\"musk_500.csv\")\r\n",
        "just_tweets=tweets_df[[\"text\"]]\r\n",
        "just_tweets.head()"
      ],
      "execution_count": null,
      "outputs": []
    },
    {
      "cell_type": "code",
      "metadata": {
        "colab": {
          "base_uri": "https://localhost:8080/",
          "height": 198
        },
        "id": "cupBqsKTXdNE",
        "outputId": "0bb1f178-6aaf-4ec0-893e-ab5fde06422a"
      },
      "source": [
        "##remove urls \r\n",
        "no_urls = just_tweets['text'].apply(lambda x: re.split('https:\\/\\/.*', str(x))[0])\r\n",
        "#just_text_from_tweets.head(50)\r\n",
        "no_urls=no_urls.to_frame()\r\n",
        "no_urls.head()"
      ],
      "execution_count": 213,
      "outputs": [
        {
          "output_type": "execute_result",
          "data": {
            "text/html": [
              "<div>\n",
              "<style scoped>\n",
              "    .dataframe tbody tr th:only-of-type {\n",
              "        vertical-align: middle;\n",
              "    }\n",
              "\n",
              "    .dataframe tbody tr th {\n",
              "        vertical-align: top;\n",
              "    }\n",
              "\n",
              "    .dataframe thead th {\n",
              "        text-align: right;\n",
              "    }\n",
              "</style>\n",
              "<table border=\"1\" class=\"dataframe\">\n",
              "  <thead>\n",
              "    <tr style=\"text-align: right;\">\n",
              "      <th></th>\n",
              "      <th>text</th>\n",
              "    </tr>\n",
              "  </thead>\n",
              "  <tbody>\n",
              "    <tr>\n",
              "      <th>0</th>\n",
              "      <td>I am become meme,\\nDestroyer of shorts</td>\n",
              "    </tr>\n",
              "    <tr>\n",
              "      <th>1</th>\n",
              "      <td>Sandstorm is a masterpiece</td>\n",
              "    </tr>\n",
              "    <tr>\n",
              "      <th>2</th>\n",
              "      <td>Next time, we try pull *up* method</td>\n",
              "    </tr>\n",
              "    <tr>\n",
              "      <th>3</th>\n",
              "      <td>Low-key Loki</td>\n",
              "    </tr>\n",
              "    <tr>\n",
              "      <th>4</th>\n",
              "      <td>No highs, no lows, only Doge</td>\n",
              "    </tr>\n",
              "  </tbody>\n",
              "</table>\n",
              "</div>"
            ],
            "text/plain": [
              "                                     text\n",
              "0  I am become meme,\\nDestroyer of shorts\n",
              "1              Sandstorm is a masterpiece\n",
              "2     Next time, we try pull *up* method \n",
              "3                            Low-key Loki\n",
              "4            No highs, no lows, only Doge"
            ]
          },
          "metadata": {
            "tags": []
          },
          "execution_count": 213
        }
      ]
    },
    {
      "cell_type": "code",
      "metadata": {
        "colab": {
          "base_uri": "https://localhost:8080/",
          "height": 142,
          "referenced_widgets": [
            "f52b93b8ecf84998896171dadf5f46bc",
            "51b2f84015e9486ea8e3cca619d0d2a5",
            "0e2d642a504e48b896ee4a6418c8f1ff",
            "409249f22ed344a295754e11a29969ec",
            "2a08e1bc48d44fbe9694fd13b27811f7",
            "df0d04f03cbc49e1ab224262ff8034dd",
            "4d23d506fd404fb1a1cb8e08535f94d3",
            "5002f08708b548238d1e96c609f3d468"
          ]
        },
        "id": "_i8yxSAgaWl6",
        "outputId": "4e636c1a-dde8-44c3-f9de-ba74740871b7"
      },
      "source": [
        "# convert rows to a string\r\n",
        "tweets_string = \"\"\r\n",
        "for idx,row in tqdm_notebook(no_urls.iterrows()):\r\n",
        "    text = row['text']\r\n",
        "    text += \". \"\r\n",
        "    tweets_string += text\r\n",
        "    #print(text)"
      ],
      "execution_count": 215,
      "outputs": [
        {
          "output_type": "stream",
          "text": [
            "/usr/local/lib/python3.6/dist-packages/ipykernel_launcher.py:3: TqdmDeprecationWarning: This function will be removed in tqdm==5.0.0\n",
            "Please use `tqdm.notebook.tqdm` instead of `tqdm.tqdm_notebook`\n",
            "  This is separate from the ipykernel package so we can avoid doing imports until\n"
          ],
          "name": "stderr"
        },
        {
          "output_type": "display_data",
          "data": {
            "application/vnd.jupyter.widget-view+json": {
              "model_id": "f52b93b8ecf84998896171dadf5f46bc",
              "version_minor": 0,
              "version_major": 2
            },
            "text/plain": [
              "HBox(children=(FloatProgress(value=1.0, bar_style='info', max=1.0), HTML(value='')))"
            ]
          },
          "metadata": {
            "tags": []
          }
        },
        {
          "output_type": "stream",
          "text": [
            "\n"
          ],
          "name": "stdout"
        }
      ]
    },
    {
      "cell_type": "code",
      "metadata": {
        "colab": {
          "base_uri": "https://localhost:8080/",
          "height": 199
        },
        "id": "sJZpDHu2cWPf",
        "outputId": "1215297f-1a55-436d-f285-fb32185bf1a6"
      },
      "source": [
        "tweets_string \r\n",
        "clean_text = re.sub(\"[^A-Za-z0-9.]\",\" \",tweets_string)\r\n",
        "#no \\ [^A-Za-z0-9 . ]\",\"\r\n",
        "clean_text[:1000]"
      ],
      "execution_count": 231,
      "outputs": [
        {
          "output_type": "execute_result",
          "data": {
            "application/vnd.google.colaboratory.intrinsic+json": {
              "type": "string"
            },
            "text/plain": [
              "'I am become meme  Destroyer of shorts. Sandstorm is a masterpiece. Next time  we try pull  up  method . Low key Loki. No highs  no lows  only Doge. Dogecoin is the people s crypto. ur welcome . . This was a tough one . Off Twitter for a while. Giga Berlin progress . Please consider working at Neuralink   Short term  solve brain spine injuries Long term  human AI symbiosis   Latte  . On Clubhouse tonight at 10pm LA time. What a beautiful day in LA . Starship SN9  amp  SN10 . In retrospect  it was inevitable. With Cyberpunk  even the hotfixes literally have hotfixes  but   great game. . Here come the shorty apologists Give them no respect Get Shorty. u can t sell houses u don t own u can t sell cars u don t own but  u  can  sell stock u don t own   this is bs   sh  . Plaid Model S ships next month . Even Discord has gone corpo  . Gamestonk    . . I kinda love Etsy. Under Vegas in  boringcompany tunnel yesterday with my boys . Launching many small satellites for a wide range of customers '"
            ]
          },
          "metadata": {
            "tags": []
          },
          "execution_count": 231
        }
      ]
    },
    {
      "cell_type": "code",
      "metadata": {
        "id": "EkmHOXPWu-6K"
      },
      "source": [
        ""
      ],
      "execution_count": null,
      "outputs": []
    }
  ]
}