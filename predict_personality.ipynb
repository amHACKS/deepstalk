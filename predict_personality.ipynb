{
  "nbformat": 4,
  "nbformat_minor": 0,
  "metadata": {
    "colab": {
      "name": "big5_showcase.ipynb",
      "provenance": [],
      "collapsed_sections": [],
      "include_colab_link": true
    },
    "kernelspec": {
      "name": "python3",
      "display_name": "Python 3"
    }
  },
  "cells": [
    {
      "cell_type": "markdown",
      "metadata": {
        "id": "view-in-github",
        "colab_type": "text"
      },
      "source": [
        "<a href=\"https://colab.research.google.com/github/Mainakdeb/e_summit/blob/main/predict_personality.ipynb\" target=\"_parent\"><img src=\"https://colab.research.google.com/assets/colab-badge.svg\" alt=\"Open In Colab\"/></a>"
      ]
    },
    {
      "cell_type": "markdown",
      "metadata": {
        "id": "wF0-f9Vj8i2W"
      },
      "source": [
        "This notebook demostrates how our script works. Check out the main code here - https://github.com/Mainakdeb/e_summit\r\n"
      ]
    },
    {
      "cell_type": "markdown",
      "metadata": {
        "id": "aUdIqGl29PJD"
      },
      "source": [
        "## Mount Google Drive to Access Pretrained Models"
      ]
    },
    {
      "cell_type": "code",
      "metadata": {
        "colab": {
          "base_uri": "https://localhost:8080/"
        },
        "id": "GS2GnRBX3NIV",
        "outputId": "2a85135e-cc9e-43dd-a08f-491198fcacac"
      },
      "source": [
        "from google.colab import drive\n",
        "drive.mount('/content/drive')"
      ],
      "execution_count": 25,
      "outputs": [
        {
          "output_type": "stream",
          "text": [
            "Drive already mounted at /content/drive; to attempt to forcibly remount, call drive.mount(\"/content/drive\", force_remount=True).\n"
          ],
          "name": "stdout"
        }
      ]
    },
    {
      "cell_type": "markdown",
      "metadata": {
        "id": "9VQhTKTb-KVO"
      },
      "source": [
        "## Install socialreaper version 0.3.0\r\n",
        "Most of the dependencies needed are already available in colab, when running the script locally, make sure to run \r\n",
        "```\r\n",
        "pip install -r requirements.txt\r\n",
        "```"
      ]
    },
    {
      "cell_type": "code",
      "metadata": {
        "id": "n3g4N-s9WuF3",
        "colab": {
          "base_uri": "https://localhost:8080/"
        },
        "outputId": "f7876ceb-7a57-4f22-fb94-ef73a78989e2"
      },
      "source": [
        "!pip3 install socialreaper==0.3.0"
      ],
      "execution_count": 26,
      "outputs": [
        {
          "output_type": "stream",
          "text": [
            "Collecting socialreaper==0.3.0\n",
            "  Downloading https://files.pythonhosted.org/packages/db/b4/c2999e4d21c3ed9112f87ef2838b7e4e338f0da28bf76fd704fffe4fefea/socialreaper-0.3.0-py3-none-any.whl\n",
            "Requirement already satisfied: requests-oauthlib>=0.7.0 in /usr/local/lib/python3.6/dist-packages (from socialreaper==0.3.0) (1.3.0)\n",
            "Requirement already satisfied: requests>=2.11.1 in /usr/local/lib/python3.6/dist-packages (from socialreaper==0.3.0) (2.23.0)\n",
            "Requirement already satisfied: oauthlib>=2.0.1 in /usr/local/lib/python3.6/dist-packages (from socialreaper==0.3.0) (3.1.0)\n",
            "Requirement already satisfied: certifi>=2017.4.17 in /usr/local/lib/python3.6/dist-packages (from requests>=2.11.1->socialreaper==0.3.0) (2020.12.5)\n",
            "Requirement already satisfied: chardet<4,>=3.0.2 in /usr/local/lib/python3.6/dist-packages (from requests>=2.11.1->socialreaper==0.3.0) (3.0.4)\n",
            "Requirement already satisfied: idna<3,>=2.5 in /usr/local/lib/python3.6/dist-packages (from requests>=2.11.1->socialreaper==0.3.0) (2.10)\n",
            "Requirement already satisfied: urllib3!=1.25.0,!=1.25.1,<1.26,>=1.21.1 in /usr/local/lib/python3.6/dist-packages (from requests>=2.11.1->socialreaper==0.3.0) (1.24.3)\n",
            "Installing collected packages: socialreaper\n",
            "Successfully installed socialreaper-0.3.0\n"
          ],
          "name": "stdout"
        }
      ]
    },
    {
      "cell_type": "code",
      "metadata": {
        "id": "1ZcCFcfjShE_"
      },
      "source": [
        "import optparse\r\n",
        "import pickle\r\n",
        "from sklearn.feature_extraction.text import CountVectorizer\r\n",
        "import matplotlib.pyplot as plt\r\n",
        "import pandas as pd\r\n",
        "import re\r\n",
        "import numpy as np\r\n",
        "\r\n",
        "from socialreaper import Twitter\r\n",
        "from socialreaper.tools import to_csv"
      ],
      "execution_count": 27,
      "outputs": []
    },
    {
      "cell_type": "markdown",
      "metadata": {
        "id": "ZU2XkIYs-ycm"
      },
      "source": [
        "## Load the classifiers:"
      ]
    },
    {
      "cell_type": "code",
      "metadata": {
        "id": "d5x3gEshyylN"
      },
      "source": [
        "import pickle\r\n",
        "from sklearn.ensemble import RandomForestRegressor, RandomForestClassifier\r\n",
        "#from data_prep import DataPrep\r\n",
        "from sklearn.feature_extraction.text import TfidfVectorizer\r\n",
        "\r\n",
        "class Model():\r\n",
        "    def __init__(self):\r\n",
        "        self.rfr = RandomForestRegressor(bootstrap=True,\r\n",
        "         max_features='sqrt',\r\n",
        "         min_samples_leaf=1,\r\n",
        "         min_samples_split=2,\r\n",
        "         n_estimators= 200)\r\n",
        "        self.rfc = RandomForestClassifier(max_features='sqrt', n_estimators=110)\r\n",
        "        self.tfidf = TfidfVectorizer(stop_words='english', strip_accents='ascii')\r\n",
        "\r\n",
        "    def fit(self, X, y, regression=True):\r\n",
        "        X = self.tfidf.fit_transform(X)\r\n",
        "        if regression:\r\n",
        "            self.rfr = self.rfr.fit(X, y)\r\n",
        "        else:\r\n",
        "            self.rfc = self.rfc.fit(X, y)\r\n",
        "\r\n",
        "    def predict(self, X, regression=True):\r\n",
        "        X = self.tfidf.transform(X)\r\n",
        "        if regression:\r\n",
        "            return self.rfr.predict(X)\r\n",
        "        else:\r\n",
        "            return self.rfc.predict(X)\r\n",
        "\r\n",
        "    def predict_proba(self, X, regression=False):\r\n",
        "        X = self.tfidf.transform(X)\r\n",
        "        if regression:\r\n",
        "            raise ValueError('Cannot predict probabilites of a regression!')\r\n",
        "        else:\r\n",
        "            return self.rfc.predict_proba(X)\r\n",
        "\r\n",
        "M = Model()\r\n",
        "models={}\r\n",
        "traits = ['OPN', 'CON', 'EXT', 'AGR', 'NEU']\r\n",
        "for trait in traits:\r\n",
        "    with open('/content/drive/MyDrive/mydata/big5_models/' + trait + '_model.pkl', 'rb') as f:\r\n",
        "        models[trait] = pickle.load(f)"
      ],
      "execution_count": 29,
      "outputs": []
    },
    {
      "cell_type": "markdown",
      "metadata": {
        "id": "WApCmIZh-5a8"
      },
      "source": [
        "## Define get_profile( ):\r\n",
        "the get_profile( ) function takes keywords/names as input and returns corresponding social media id's as a dictionary."
      ]
    },
    {
      "cell_type": "code",
      "metadata": {
        "id": "Kr03RPrZzMBD"
      },
      "source": [
        "from googlesearch import search\r\n",
        "import re\r\n",
        "\r\n",
        "def get_profile(keyword):\r\n",
        "  print(\"getting profiles from google..\")\r\n",
        "  results = list(search(keyword, num=10))\r\n",
        "  profiles = {\r\n",
        "      'twitter': ''\r\n",
        "  }\r\n",
        "  for r in results:\r\n",
        "    if r.find('twitter') != -1 and profiles['twitter'] == '':\r\n",
        "      r = re.search(r'https://twitter.com/([^/?]+)', r).group(1)\r\n",
        "      profiles['twitter'] = r\r\n",
        "\r\n",
        "  return profiles"
      ],
      "execution_count": 30,
      "outputs": []
    },
    {
      "cell_type": "markdown",
      "metadata": {
        "id": "Kx6kpvn8_SoV"
      },
      "source": [
        "## Define get_text_from_tweets( ) :\r\n",
        "this function below takes the twitter username (string) as input, then gets rid of special characters using regex, and returns tweets corresponding to that user in form of a string. \r\n",
        "\r\n",
        "In the main script, we have saved the scraped tweets as information.txt to adhere with the problem statement."
      ]
    },
    {
      "cell_type": "code",
      "metadata": {
        "id": "8_-aHRJDzz5n"
      },
      "source": [
        "twt = Twitter(app_key=\"PDz1fZLoCEHcOx035TtLsrcWS\", \r\n",
        "              app_secret=\"Ok1aJBP4nM6g87F3hFiPFY0R0a7qnUNsdIoKZteaAuzYF2yTuF\", \r\n",
        "              oauth_token=\"1292034807057149952-3Mlqa59ZAoqRdACgnW6z4goXUy3vUs\", \r\n",
        "              oauth_token_secret=\"ZZlu7jF3mymeapDxwj19MkqCYF3osQjp48xYEuIL4wRM1\")\r\n",
        "    \r\n",
        "def get_text_from_tweets(user_name):\r\n",
        "    print(\"processing text from tweets..\")\r\n",
        "    tweets = twt.user(user_name, \r\n",
        "                    count=1000, \r\n",
        "                    exclude_replies=False, \r\n",
        "                    include_retweets=True)\r\n",
        "        \r\n",
        "    to_csv(list(tweets), filename=user_name+'_tweets.csv')\r\n",
        "\r\n",
        "    tweets_df = pd.read_csv(user_name+\"_tweets.csv\")\r\n",
        "    just_tweets=tweets_df[[\"text\"]]\r\n",
        "    ##remove urls \r\n",
        "    no_urls = just_tweets['text'].apply(lambda x: re.split('https:\\/\\/.*', str(x))[0])\r\n",
        "    #just_text_from_tweets.head(50)\r\n",
        "    no_urls=no_urls.to_frame()\r\n",
        "\r\n",
        "    # convert rows to a string\r\n",
        "    tweets_string = \"\"\r\n",
        "    for idx,row in no_urls.iterrows():\r\n",
        "        tweets_string += (row['text'] + '. ')\r\n",
        "\r\n",
        "    clean_text = re.sub(\"[^A-Za-z0-9. ]\",\" \",tweets_string)\r\n",
        "    clean_text = clean_text.strip()\r\n",
        "    return(clean_text)\r\n"
      ],
      "execution_count": 31,
      "outputs": []
    },
    {
      "cell_type": "markdown",
      "metadata": {
        "id": "w6IFNlQUAEF2"
      },
      "source": [
        "## Define predict_personality( )\r\n",
        "This function accepts a string as input and returns an array of floats, each corresponding to one of 5 personality traits."
      ]
    },
    {
      "cell_type": "code",
      "metadata": {
        "id": "NuFhpYU8z9v7"
      },
      "source": [
        "def predict(X):\r\n",
        "        X=[X]\r\n",
        "        predictions = {}\r\n",
        "        traits = ['OPN', 'CON', 'EXT', 'AGR', 'NEU']\r\n",
        "        for trait in traits:\r\n",
        "            pkl_model = models[trait]\r\n",
        "            trait_scores = pkl_model.predict(X, regression=True).reshape(1, -1)\r\n",
        "            # scaler = MinMaxScaler(feature_range=(0, 50))\r\n",
        "            # print(scaler.fit_transform(trait_scores))\r\n",
        "            # scaled_trait_scores = scaler.fit_transform(trait_scores)\r\n",
        "            predictions['pred_s'+trait] = trait_scores.flatten()[0]\r\n",
        "            # predictions['pred_s'+trait] = scaled_trait_scores.flatten()\r\n",
        "\r\n",
        "            trait_categories = pkl_model.predict(X, regression=False)\r\n",
        "            predictions['pred_c'+trait] = str(trait_categories[0])\r\n",
        "            # predictions['pred_c'+trait] = trait_categories\r\n",
        "\r\n",
        "            trait_categories_probs = pkl_model.predict_proba(X)\r\n",
        "            predictions['pred_prob_c'+trait] = trait_categories_probs[:, 1][0]\r\n",
        "            # predictions['pred_prob_c'+trait] = trait_categories_probs[:, 1]\r\n",
        "        return predictions"
      ],
      "execution_count": 32,
      "outputs": []
    },
    {
      "cell_type": "markdown",
      "metadata": {
        "id": "0vMmBUvjAoLp"
      },
      "source": [
        "## Define display_results( ):\r\n",
        "This function plots a bar chart, representing each of the 5 OCEAN tendencies of the user."
      ]
    },
    {
      "cell_type": "code",
      "metadata": {
        "id": "PmU7sLWf2VzD"
      },
      "source": [
        "def display_results(predictions, user_name):\r\n",
        "    attrs = [predictions['pred_prob_cOPN'],\r\n",
        "             predictions['pred_prob_cCON'],\r\n",
        "             predictions['pred_prob_cEXT'],\r\n",
        "             predictions['pred_prob_cAGR'],\r\n",
        "             predictions['pred_prob_cNEU']]\r\n",
        "\r\n",
        "    plt.rcParams[\"figure.figsize\"] = (12, 6)\r\n",
        "    #plt.style.use('ggplot')\r\n",
        "    plt.ylim([0.0,1.0])\r\n",
        "    plt.bar(['Openness','Conscientiousness','Extraverison','Agreeableness','Neuroticism'],attrs, color =('green', 'black', 'pink', 'orange', 'yellow'), alpha=0.5)\r\n",
        "    plt.xlabel(\"Attribute\")\r\n",
        "    plt.ylabel(\"Tendency\")\r\n",
        "    plt.title(user_name+\"'s Personality Report\")\r\n",
        "    plt.grid()\r\n",
        "    plt.show()"
      ],
      "execution_count": 33,
      "outputs": []
    },
    {
      "cell_type": "markdown",
      "metadata": {
        "id": "RVE5llsPBHMF"
      },
      "source": [
        "##Moment of truth:\r\n",
        "Feel free to replace Elon Musk with Chetan Bhagat, Ratan Tata etc.\r\n"
      ]
    },
    {
      "cell_type": "code",
      "metadata": {
        "colab": {
          "base_uri": "https://localhost:8080/"
        },
        "id": "gnrzc3rO1KWk",
        "outputId": "bcd581a9-3f24-420d-eec2-156b5f528a4e"
      },
      "source": [
        "user_name = get_profile(\"Elon Musk\")['twitter']\r\n",
        "text = get_text_from_tweets(user_name)\r\n",
        "predictions = predict(text)\r\n",
        "#display_results(predictions=predictions, user_name=user_name)"
      ],
      "execution_count": 34,
      "outputs": [
        {
          "output_type": "stream",
          "text": [
            "getting profiles from google..\n",
            "processing text from tweets..\n"
          ],
          "name": "stdout"
        }
      ]
    },
    {
      "cell_type": "code",
      "metadata": {
        "id": "Mj_krQsXVxTt",
        "colab": {
          "base_uri": "https://localhost:8080/",
          "height": 404
        },
        "outputId": "e95340e6-52a4-44ee-ff17-8e6102951e1e"
      },
      "source": [
        "display_results(predictions=predictions, user_name=user_name)"
      ],
      "execution_count": 35,
      "outputs": [
        {
          "output_type": "display_data",
          "data": {
            "image/png": "[encoded data removed]",
            "text/plain": [
              "<Figure size 864x432 with 1 Axes>"
            ]
          },
          "metadata": {
            "tags": [],
            "needs_background": "light"
          }
        }
      ]
    },
    {
      "cell_type": "markdown",
      "metadata": {
        "id": "-hcLgL4hCTZq"
      },
      "source": [
        "The main script accepts a file names.txt, and generates 2 files, information.txt and predictions.txt\r\n",
        "\r\n",
        "Do check out the main script - https://github.com/Mainakdeb/e_summit"
      ]
    },
    {
      "cell_type": "code",
      "metadata": {
        "id": "jAIfRVHg0Wsx"
      },
      "source": [
        ""
      ],
      "execution_count": 35,
      "outputs": []
    }
  ]
}