{
  "nbformat": 4,
  "nbformat_minor": 0,
  "metadata": {
    "colab": {
      "name": "Copy of temp3.ipynb",
      "provenance": [],
      "collapsed_sections": [],
      "include_colab_link": true
    },
    "kernelspec": {
      "name": "python3",
      "display_name": "Python 3"
    }
  },
  "cells": [
    {
      "cell_type": "markdown",
      "metadata": {
        "id": "view-in-github",
        "colab_type": "text"
      },
      "source": [
        "<a href=\"https://colab.research.google.com/github/Mainakdeb/e_summit/blob/main/predict_personality.ipynb\" target=\"_parent\"><img src=\"https://colab.research.google.com/assets/colab-badge.svg\" alt=\"Open In Colab\"/></a>"
      ]
    },
    {
      "cell_type": "markdown",
      "metadata": {
        "id": "wF0-f9Vj8i2W"
      },
      "source": [
        "This notebook demostrates how our script works. Check out the main code here - https://github.com/Mainakdeb/e_summit\r\n"
      ]
    },
    {
      "cell_type": "markdown",
      "metadata": {
        "id": "aUdIqGl29PJD"
      },
      "source": [
        "## Download models\r\n",
        "We have uploaded trained algorithms into the github repo of our project, the following cell downloads the contents of the repository."
      ]
    },
    {
      "cell_type": "code",
      "metadata": {
        "colab": {
          "base_uri": "https://localhost:8080/"
        },
        "id": "ZuzxUGdnqm4W",
        "outputId": "d320e55d-bfed-4bad-d735-2ce0e8b1d279"
      },
      "source": [
        "!git clone https://github.com/Mainakdeb/e_summit.git"
      ],
      "execution_count": 1,
      "outputs": [
        {
          "output_type": "stream",
          "text": [
            "Cloning into 'e_summit'...\n",
            "remote: Enumerating objects: 181, done.\u001b[K\n",
            "remote: Counting objects: 100% (181/181), done.\u001b[K\n",
            "remote: Compressing objects: 100% (143/143), done.\u001b[K\n",
            "remote: Total 181 (delta 99), reused 87 (delta 34), pack-reused 0\u001b[K\n",
            "Receiving objects: 100% (181/181), 8.69 MiB | 7.10 MiB/s, done.\n",
            "Resolving deltas: 100% (99/99), done.\n"
          ],
          "name": "stdout"
        }
      ]
    },
    {
      "cell_type": "markdown",
      "metadata": {
        "id": "9VQhTKTb-KVO"
      },
      "source": [
        "## Install socialreaper version 0.3.0\r\n",
        "Most of the dependencies needed are already available in colab, when running the script locally, make sure to run \r\n",
        "```\r\n",
        "pip install -r requirements.txt\r\n",
        "```"
      ]
    },
    {
      "cell_type": "code",
      "metadata": {
        "id": "n3g4N-s9WuF3",
        "colab": {
          "base_uri": "https://localhost:8080/"
        },
        "outputId": "8c2444f4-55a5-4461-db9c-f36010664133"
      },
      "source": [
        "!pip3 install socialreaper==0.3.0"
      ],
      "execution_count": 2,
      "outputs": [
        {
          "output_type": "stream",
          "text": [
            "Collecting socialreaper==0.3.0\n",
            "  Downloading https://files.pythonhosted.org/packages/db/b4/c2999e4d21c3ed9112f87ef2838b7e4e338f0da28bf76fd704fffe4fefea/socialreaper-0.3.0-py3-none-any.whl\n",
            "Requirement already satisfied: requests-oauthlib>=0.7.0 in /usr/local/lib/python3.6/dist-packages (from socialreaper==0.3.0) (1.3.0)\n",
            "Requirement already satisfied: requests>=2.11.1 in /usr/local/lib/python3.6/dist-packages (from socialreaper==0.3.0) (2.23.0)\n",
            "Requirement already satisfied: oauthlib>=2.0.1 in /usr/local/lib/python3.6/dist-packages (from socialreaper==0.3.0) (3.1.0)\n",
            "Requirement already satisfied: urllib3!=1.25.0,!=1.25.1,<1.26,>=1.21.1 in /usr/local/lib/python3.6/dist-packages (from requests>=2.11.1->socialreaper==0.3.0) (1.24.3)\n",
            "Requirement already satisfied: chardet<4,>=3.0.2 in /usr/local/lib/python3.6/dist-packages (from requests>=2.11.1->socialreaper==0.3.0) (3.0.4)\n",
            "Requirement already satisfied: idna<3,>=2.5 in /usr/local/lib/python3.6/dist-packages (from requests>=2.11.1->socialreaper==0.3.0) (2.10)\n",
            "Requirement already satisfied: certifi>=2017.4.17 in /usr/local/lib/python3.6/dist-packages (from requests>=2.11.1->socialreaper==0.3.0) (2020.12.5)\n",
            "Installing collected packages: socialreaper\n",
            "Successfully installed socialreaper-0.3.0\n"
          ],
          "name": "stdout"
        }
      ]
    },
    {
      "cell_type": "code",
      "metadata": {
        "id": "1ZcCFcfjShE_"
      },
      "source": [
        "import optparse\r\n",
        "import pickle\r\n",
        "from sklearn.feature_extraction.text import CountVectorizer\r\n",
        "import matplotlib.pyplot as plt\r\n",
        "import pandas as pd\r\n",
        "import re\r\n",
        "import numpy as np\r\n",
        "\r\n",
        "from socialreaper import Twitter\r\n",
        "from socialreaper.tools import to_csv"
      ],
      "execution_count": 3,
      "outputs": []
    },
    {
      "cell_type": "markdown",
      "metadata": {
        "id": "ZU2XkIYs-ycm"
      },
      "source": [
        "## Load the classifiers:"
      ]
    },
    {
      "cell_type": "code",
      "metadata": {
        "colab": {
          "base_uri": "https://localhost:8080/"
        },
        "id": "d5x3gEshyylN",
        "outputId": "85420a2a-0bc2-4a4b-cb32-f51040163597"
      },
      "source": [
        "cEXT = pickle.load( open( \"/content/e_summit/models/cEXT.p\", \"rb\"))\r\n",
        "cNEU = pickle.load( open( \"/content/e_summit/models/cNEU.p\", \"rb\"))\r\n",
        "cAGR = pickle.load( open( \"/content/e_summit/models/cAGR.p\", \"rb\"))\r\n",
        "cCON = pickle.load( open( \"/content/e_summit/models/cCON.p\", \"rb\"))\r\n",
        "cOPN = pickle.load( open( \"/content/e_summit/models/cOPN.p\", \"rb\"))\r\n",
        "vectorizer_31 = pickle.load( open( \"/content/e_summit/models/vectorizer_31.p\", \"rb\"))\r\n",
        "vectorizer_30 = pickle.load( open( \"/content/e_summit/models/vectorizer_30.p\", \"rb\"))"
      ],
      "execution_count": 4,
      "outputs": [
        {
          "output_type": "stream",
          "text": [
            "/usr/local/lib/python3.6/dist-packages/sklearn/base.py:318: UserWarning: Trying to unpickle estimator LogisticRegression from version 0.22.1 when using version 0.22.2.post1. This might lead to breaking code or invalid results. Use at your own risk.\n",
            "  UserWarning)\n",
            "/usr/local/lib/python3.6/dist-packages/sklearn/base.py:318: UserWarning: Trying to unpickle estimator DecisionTreeClassifier from version 0.22.1 when using version 0.22.2.post1. This might lead to breaking code or invalid results. Use at your own risk.\n",
            "  UserWarning)\n",
            "/usr/local/lib/python3.6/dist-packages/sklearn/base.py:318: UserWarning: Trying to unpickle estimator RandomForestClassifier from version 0.22.1 when using version 0.22.2.post1. This might lead to breaking code or invalid results. Use at your own risk.\n",
            "  UserWarning)\n",
            "/usr/local/lib/python3.6/dist-packages/sklearn/base.py:318: UserWarning: Trying to unpickle estimator LogisticRegression from version 0.22.1 when using version 0.22.2.post1. This might lead to breaking code or invalid results. Use at your own risk.\n",
            "  UserWarning)\n",
            "/usr/local/lib/python3.6/dist-packages/sklearn/base.py:318: UserWarning: Trying to unpickle estimator CountVectorizer from version 0.22.1 when using version 0.22.2.post1. This might lead to breaking code or invalid results. Use at your own risk.\n",
            "  UserWarning)\n"
          ],
          "name": "stderr"
        }
      ]
    },
    {
      "cell_type": "markdown",
      "metadata": {
        "id": "WApCmIZh-5a8"
      },
      "source": [
        "## Define get_profile( ):\r\n",
        "the get_profile( ) function takes keywords/names as input and returns corresponding social media id's as a dictionary."
      ]
    },
    {
      "cell_type": "code",
      "metadata": {
        "id": "Kr03RPrZzMBD"
      },
      "source": [
        "from googlesearch import search\r\n",
        "import re\r\n",
        "\r\n",
        "def get_profile(keyword):\r\n",
        "  print(\"getting profiles from google..\")\r\n",
        "  results = list(search(keyword, num=10))\r\n",
        "  profiles = {\r\n",
        "      'twitter': ''\r\n",
        "  }\r\n",
        "  for r in results:\r\n",
        "    if r.find('twitter') != -1 and profiles['twitter'] == '':\r\n",
        "      r = re.search(r'https://twitter.com/([^/?]+)', r).group(1)\r\n",
        "      profiles['twitter'] = r\r\n",
        "\r\n",
        "  return profiles"
      ],
      "execution_count": 5,
      "outputs": []
    },
    {
      "cell_type": "markdown",
      "metadata": {
        "id": "Kx6kpvn8_SoV"
      },
      "source": [
        "## Define get_text_from_tweets( ) :\r\n",
        "this function below takes the twitter username (string) as input, then gets rid of special characters using regex, and returns tweets corresponding to that user in form of a string. \r\n",
        "\r\n",
        "In the main script, we have saved the scraped tweets as information.txt to adhere with the problem statement."
      ]
    },
    {
      "cell_type": "code",
      "metadata": {
        "id": "8_-aHRJDzz5n"
      },
      "source": [
        "twt = Twitter(app_key=\"PDz1fZLoCEHcOx035TtLsrcWS\", \r\n",
        "              app_secret=\"Ok1aJBP4nM6g87F3hFiPFY0R0a7qnUNsdIoKZteaAuzYF2yTuF\", \r\n",
        "              oauth_token=\"1292034807057149952-3Mlqa59ZAoqRdACgnW6z4goXUy3vUs\", \r\n",
        "              oauth_token_secret=\"ZZlu7jF3mymeapDxwj19MkqCYF3osQjp48xYEuIL4wRM1\")\r\n",
        "    \r\n",
        "def get_text_from_tweets(user_name):\r\n",
        "    print(\"processing text from tweets..\")\r\n",
        "    tweets = twt.user(user_name, \r\n",
        "                    count=1000, \r\n",
        "                    exclude_replies=False, \r\n",
        "                    include_retweets=True)\r\n",
        "        \r\n",
        "    to_csv(list(tweets), filename=user_name+'_tweets.csv')\r\n",
        "\r\n",
        "    tweets_df = pd.read_csv(user_name+\"_tweets.csv\")\r\n",
        "    just_tweets=tweets_df[[\"text\"]]\r\n",
        "    ##remove urls \r\n",
        "    no_urls = just_tweets['text'].apply(lambda x: re.split('https:\\/\\/.*', str(x))[0])\r\n",
        "    #just_text_from_tweets.head(50)\r\n",
        "    no_urls=no_urls.to_frame()\r\n",
        "\r\n",
        "    # convert rows to a string\r\n",
        "    tweets_string = \"\"\r\n",
        "    for idx,row in no_urls.iterrows():\r\n",
        "        tweets_string += (row['text'] + '. ')\r\n",
        "\r\n",
        "    clean_text = re.sub(\"[^A-Za-z0-9. ]\",\" \",tweets_string)\r\n",
        "    clean_text = clean_text.strip()\r\n",
        "    return(clean_text)\r\n"
      ],
      "execution_count": 6,
      "outputs": []
    },
    {
      "cell_type": "markdown",
      "metadata": {
        "id": "w6IFNlQUAEF2"
      },
      "source": [
        "## Define predict_personality( )\r\n",
        "This function accepts a string as input and returns an array of floats, each corresponding to one of 5 personality traits."
      ]
    },
    {
      "cell_type": "code",
      "metadata": {
        "id": "NuFhpYU8z9v7"
      },
      "source": [
        "def predict_personality(text):\r\n",
        "    print(\"predicting traits..\")\r\n",
        "    sentences = re.split(\"(?<=[.!?]) +\", text)\r\n",
        "    text_vector_31 = vectorizer_31.transform(sentences)\r\n",
        "    text_vector_30 = vectorizer_30.transform(sentences)\r\n",
        "    EXT = cEXT.predict(text_vector_31)\r\n",
        "    NEU = cNEU.predict(text_vector_30)\r\n",
        "    AGR = cAGR.predict(text_vector_31)\r\n",
        "    CON = cCON.predict(text_vector_31)\r\n",
        "    OPN = cOPN.predict(text_vector_31)\r\n",
        "    return [np.mean(EXT), np.mean(NEU), np.mean(AGR), np.mean(CON), np.mean(OPN)]"
      ],
      "execution_count": 7,
      "outputs": []
    },
    {
      "cell_type": "markdown",
      "metadata": {
        "id": "0vMmBUvjAoLp"
      },
      "source": [
        "## Define display_results( ):\r\n",
        "This function plots a bar chart, representing each of the 5 OCEAN tendencies of the user."
      ]
    },
    {
      "cell_type": "code",
      "metadata": {
        "id": "PmU7sLWf2VzD"
      },
      "source": [
        "def display_results(predictions, user_name):\r\n",
        "    #print(\"predicted personality:\", predictions)\r\n",
        "    df = pd.DataFrame(dict(r=predictions, theta=['EXT','NEU','AGR', 'CON', 'OPN']))\r\n",
        "    attrs = list(df['r'])\r\n",
        "    plt.rcParams[\"figure.figsize\"] = (12, 6)\r\n",
        "    #plt.style.use('ggplot')\r\n",
        "    plt.bar(['Extraverison','Neuroticism','Agreeableness', 'Conscientiousness', 'Openness'],attrs, color =('green', 'black', 'pink', 'orange', 'yellow'), alpha=0.5)\r\n",
        "    plt.xlabel(\"Attribute\")\r\n",
        "    plt.ylabel(\"Tendency\")\r\n",
        "    plt.title(user_name+\"'s Personality Report\")\r\n",
        "    plt.show()"
      ],
      "execution_count": 8,
      "outputs": []
    },
    {
      "cell_type": "markdown",
      "metadata": {
        "id": "RVE5llsPBHMF"
      },
      "source": [
        "##Moment of truth:\r\n",
        "Feel free to replace Chetan Bhagat, try Narendra Modi, Ratan Tata.\r\n"
      ]
    },
    {
      "cell_type": "code",
      "metadata": {
        "colab": {
          "base_uri": "https://localhost:8080/",
          "height": 443
        },
        "id": "gnrzc3rO1KWk",
        "outputId": "6292ddfa-b16f-4e33-fd6c-f211ee80d92b"
      },
      "source": [
        "user_name = get_profile(\"Chetan Bhagat\")['twitter']\r\n",
        "text = get_text_from_tweets(user_name)\r\n",
        "predictions = predict_personality(text)\r\n",
        "display_results(predictions=predictions, user_name=user_name)"
      ],
      "execution_count": 9,
      "outputs": [
        {
          "output_type": "stream",
          "text": [
            "getting profiles from google..\n",
            "processing text from tweets..\n",
            "predicting traits..\n"
          ],
          "name": "stdout"
        },
        {
          "output_type": "display_data",
          "data": {
            "image/png": "[encoded data removed]",
            "text/plain": [
              "<Figure size 864x432 with 1 Axes>"
            ]
          },
          "metadata": {
            "tags": [],
            "needs_background": "light"
          }
        }
      ]
    },
    {
      "cell_type": "markdown",
      "metadata": {
        "id": "-hcLgL4hCTZq"
      },
      "source": [
        "The main script accepts a file names.txt, and generates 2 files, information.txt and predictions.txt\r\n",
        "\r\n",
        "Do check out the main script - https://github.com/Mainakdeb/e_summit"
      ]
    },
    {
      "cell_type": "code",
      "metadata": {
        "id": "jAIfRVHg0Wsx"
      },
      "source": [
        ""
      ],
      "execution_count": 9,
      "outputs": []
    }
  ]
}