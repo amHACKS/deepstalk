{
  "nbformat": 4,
  "nbformat_minor": 0,
  "metadata": {
    "colab": {
      "name": "big5_showcase.ipynb",
      "provenance": [],
      "collapsed_sections": [],
      "include_colab_link": true
    },
    "kernelspec": {
      "name": "python3",
      "display_name": "Python 3"
    }
  },
  "cells": [
    {
      "cell_type": "markdown",
      "metadata": {
        "id": "view-in-github",
        "colab_type": "text"
      },
      "source": [
        "<a href=\"https://colab.research.google.com/github/Mainakdeb/deepstalk/blob/main/predict_personality.ipynb\" target=\"_parent\"><img src=\"https://colab.research.google.com/assets/colab-badge.svg\" alt=\"Open In Colab\"/></a>"
      ]
    },
    {
      "cell_type": "markdown",
      "metadata": {
        "id": "wF0-f9Vj8i2W"
      },
      "source": [
        "This notebook demostrates how our script works. Check out the main code here - https://github.com/Mainakdeb/deepstalk\n"
      ]
    },
    {
      "cell_type": "markdown",
      "metadata": {
        "id": "Ub3aEUZUGfMr"
      },
      "source": [
        "## Clone our repository to access training data:"
      ]
    },
    {
      "cell_type": "code",
      "metadata": {
        "id": "xjIk_8vQC1uA"
      },
      "source": [
        "!git clone https://github.com/Mainakdeb/deepstalk.git"
      ],
      "execution_count": null,
      "outputs": []
    },
    {
      "cell_type": "markdown",
      "metadata": {
        "id": "KGDKHqThEeKp"
      },
      "source": [
        "## Install socialreaper version 0.3.0\n",
        "Most of the dependencies needed are already available in colab, when running the script locally, make sure to run \n",
        "```\n",
        "pip install -r requirements.txt\n",
        "```"
      ]
    },
    {
      "cell_type": "code",
      "metadata": {
        "colab": {
          "base_uri": "https://localhost:8080/"
        },
        "id": "H0ReyKVIEV5T",
        "outputId": "619b79e1-c412-451a-bdcc-f64fe9df1b30"
      },
      "source": [
        "!pip3 install socialreaper==0.3.0"
      ],
      "execution_count": null,
      "outputs": [
        {
          "output_type": "stream",
          "text": [
            "Collecting socialreaper==0.3.0\n",
            "  Downloading https://files.pythonhosted.org/packages/db/b4/c2999e4d21c3ed9112f87ef2838b7e4e338f0da28bf76fd704fffe4fefea/socialreaper-0.3.0-py3-none-any.whl\n",
            "Requirement already satisfied: oauthlib>=2.0.1 in /usr/local/lib/python3.7/dist-packages (from socialreaper==0.3.0) (3.1.0)\n",
            "Requirement already satisfied: requests>=2.11.1 in /usr/local/lib/python3.7/dist-packages (from socialreaper==0.3.0) (2.23.0)\n",
            "Requirement already satisfied: requests-oauthlib>=0.7.0 in /usr/local/lib/python3.7/dist-packages (from socialreaper==0.3.0) (1.3.0)\n",
            "Requirement already satisfied: urllib3!=1.25.0,!=1.25.1,<1.26,>=1.21.1 in /usr/local/lib/python3.7/dist-packages (from requests>=2.11.1->socialreaper==0.3.0) (1.24.3)\n",
            "Requirement already satisfied: idna<3,>=2.5 in /usr/local/lib/python3.7/dist-packages (from requests>=2.11.1->socialreaper==0.3.0) (2.10)\n",
            "Requirement already satisfied: certifi>=2017.4.17 in /usr/local/lib/python3.7/dist-packages (from requests>=2.11.1->socialreaper==0.3.0) (2020.12.5)\n",
            "Requirement already satisfied: chardet<4,>=3.0.2 in /usr/local/lib/python3.7/dist-packages (from requests>=2.11.1->socialreaper==0.3.0) (3.0.4)\n",
            "Installing collected packages: socialreaper\n",
            "Successfully installed socialreaper-0.3.0\n"
          ],
          "name": "stdout"
        }
      ]
    },
    {
      "cell_type": "code",
      "metadata": {
        "id": "SHKGxZlTEWow"
      },
      "source": [
        "import optparse\n",
        "import pickle\n",
        "from sklearn.feature_extraction.text import CountVectorizer\n",
        "import matplotlib.pyplot as plt\n",
        "import pandas as pd\n",
        "import re\n",
        "import numpy as np\n",
        "import pickle\n",
        "from sklearn.ensemble import RandomForestRegressor, RandomForestClassifier\n",
        "#from data_prep import DataPrep\n",
        "from sklearn.feature_extraction.text import TfidfVectorizer\n",
        "\n",
        "from socialreaper import Twitter\n",
        "from socialreaper.tools import to_csv"
      ],
      "execution_count": null,
      "outputs": []
    },
    {
      "cell_type": "markdown",
      "metadata": {
        "id": "MFy6RTnvGS1H"
      },
      "source": [
        "## Train Classifier:\n",
        "Run the following cell to begin training. It requires approximately 5 minutes.\n",
        "\n",
        "In case you dont want to train, you can access pretrained models from this [Google drive link](https://drive.google.com/drive/folders/1oG_EZlshqx3leaMN41mQsZLKeYZdKocD?usp=sharing). Add the folder as shortcut to your drive and run the following code in a new cell\n",
        "```\n",
        "from google.colab import drive\n",
        "drive.mount('/content/drive')\n",
        "```\n",
        "Now you'll get access to google drive folders from colab.\n"
      ]
    },
    {
      "cell_type": "code",
      "metadata": {
        "colab": {
          "base_uri": "https://localhost:8080/"
        },
        "id": "GS2GnRBX3NIV",
        "outputId": "af079a1f-e524-40ea-b97f-53c5382dcb36"
      },
      "source": [
        "import pandas as pd\n",
        "\n",
        "class DataPrep():\n",
        "    def __init__(self):\n",
        "        self.trait_cat_dict = {\n",
        "            'O': 'cOPN',\n",
        "            'C': 'cCON',\n",
        "            'E': 'cEXT',\n",
        "            'A': 'cAGR',\n",
        "            'N': 'cNEU',\n",
        "            'OPN': 'cOPN',\n",
        "            'CON': 'cCON',\n",
        "            'EXT': 'cEXT',\n",
        "            'AGR': 'cAGR',\n",
        "            'NEU': 'cNEU',\n",
        "            'Openness': 'cOPN',\n",
        "            'Conscientiousness': 'cCON',\n",
        "            'Extraversion': 'cEXT',\n",
        "            'Agreeableness': 'cAGR',\n",
        "            'Neuroticism': 'cNEU'\n",
        "            }\n",
        "        self.trait_score_dict = {\n",
        "            'O': 'sOPN',\n",
        "            'C': 'sCON',\n",
        "            'E': 'sEXT',\n",
        "            'A': 'sAGR',\n",
        "            'N': 'sNEU',\n",
        "            'OPN': 'sOPN',\n",
        "            'CON': 'sCON',\n",
        "            'EXT': 'sEXT',\n",
        "            'AGR': 'sAGR',\n",
        "            'NEU': 'sNEU',\n",
        "            'Openness': 'sOPN',\n",
        "            'Conscientiousness': 'sCON',\n",
        "            'Extraversion': 'sEXT',\n",
        "            'Agreeableness': 'sAGR',\n",
        "            'Neuroticism': 'sNEU'\n",
        "            }\n",
        "        self.LIWC_features = [\n",
        "            'WPS', 'Unique', 'Dic', 'Sixltr', 'Negate', 'Assent', 'Article', 'Preps', 'Number',\n",
        "            'Pronoun', 'I', 'We', 'Self', 'You', 'Other',\n",
        "            'Affect', 'Posemo', 'Posfeel', 'Optim', 'Negemo', 'Anx', 'Anger', 'Sad',\n",
        "            'Cogmech', 'Cause', 'Insight', 'Discrep', 'Inhib', 'Tentat', 'Certain',\n",
        "            'Senses', 'See', 'Hear', 'Feel',\n",
        "            'Social', 'Comm', 'Othref', 'Friends', 'Family', 'Humans',\n",
        "            'Time', 'Past', 'Present', 'Future',\n",
        "            'Space', 'Up', 'Down', 'Incl', 'Excl', 'Motion',\n",
        "            'Occup', 'School', 'Job', 'Achieve',\n",
        "            'Leisure', 'Home', 'Sports', 'TV', 'Music',\n",
        "            'Money',\n",
        "            'Metaph', 'Relig', 'Death', 'Physcal', 'Body', 'Sexual', 'Eating', 'Sleep', 'Groom',\n",
        "            'Allpct', 'Period', 'Comma', 'Colon', 'Semic', 'Qmark', 'Exclam', 'Dash', 'Quote', 'Apostro', 'Parenth', 'Otherp',\n",
        "            'Swear', 'Nonfl', 'Fillers',\n",
        "        ]\n",
        "\n",
        "    def prep_data(self, type, trait, regression=False, model_comparison=False):\n",
        "        df_status = self.prep_status_data()\n",
        "        tfidf = TfidfVectorizer(stop_words='english', strip_accents='ascii')\n",
        "        if type == 'essay':\n",
        "            if model_comparison:\n",
        "                X = tfidf.fit_transform(df_essay['TEXT'])\n",
        "            else:\n",
        "                X = df_essay['TEXT']\n",
        "\n",
        "            y_column = self.trait_cat_dict[trait]\n",
        "            y = df_essay[y_column]\n",
        "\n",
        "        elif type == 'status':\n",
        "            other_features_columns = [\n",
        "                'NETWORKSIZE',\n",
        "                'BETWEENNESS',\n",
        "                'NBETWEENNESS',\n",
        "                'DENSITY',\n",
        "                'BROKERAGE',\n",
        "                'NBROKERAGE',\n",
        "                'TRANSITIVITY'\n",
        "            ]\n",
        "            if model_comparison:\n",
        "                X = tfidf.fit_transform(df_status['STATUS'])\n",
        "                # X = np.nan_to_num(np.column_stack((result, df_status[other_features_columns])))\n",
        "            # Data to fit production model\n",
        "            else:\n",
        "                X = df_status['STATUS']\n",
        "            if regression:\n",
        "                y_column = self.trait_score_dict[trait]\n",
        "            else:\n",
        "                y_column = self.trait_cat_dict[trait]\n",
        "            y = df_status[y_column]\n",
        "        return X, y\n",
        "\n",
        "    def prep_status_data(self):\n",
        "        df = pd.read_csv('/content/deepstalk/data/mypersonality_final.csv', encoding=\"ISO-8859-1\")\n",
        "        df = self.convert_traits_to_boolean(df)\n",
        "        return df\n",
        "\n",
        "    def prep_essay_data(self):\n",
        "        df_essays = pd.read_csv('data/personality-detection-my-copy/essays.csv', encoding=\"ISO-8859-1\")\n",
        "        df_mairesse = pd.read_csv('data/personality-detection-my-copy/mairesse.csv', encoding=\"ISO-8859-1\", header=None)\n",
        "        df_mairesse.columns = ['#AUTHID'] + self.LIWC_features\n",
        "        df = df_essays.merge(df_mairesse, how = 'inner', on = ['#AUTHID'])\n",
        "        # add word count (WC) column\n",
        "        df['WC'] = df['TEXT'].str.split().str.len()\n",
        "        df = self.convert_traits_to_boolean(df)\n",
        "        return df\n",
        "\n",
        "    def convert_traits_to_boolean(self, df):\n",
        "        trait_columns = ['cOPN', 'cCON', 'cEXT', 'cAGR', 'cNEU']\n",
        "        d = {'y': True, 'n': False}\n",
        "\n",
        "        for trait in trait_columns:\n",
        "            df[trait] = df[trait].map(d)\n",
        "        return df\n",
        "\n",
        "    def load_data(self, filepath):\n",
        "        return pd.read_csv(filepath, encoding=\"ISO-8859-1\")\n",
        "        \n",
        "class Model():\n",
        "    def __init__(self):\n",
        "        self.rfr = RandomForestRegressor(bootstrap=True,\n",
        "         max_features='sqrt',\n",
        "         min_samples_leaf=1,\n",
        "         min_samples_split=2,\n",
        "         n_estimators= 200)\n",
        "        self.rfc = RandomForestClassifier(max_features='sqrt', n_estimators=110)\n",
        "        self.tfidf = TfidfVectorizer(stop_words='english', strip_accents='ascii')\n",
        "\n",
        "    def fit(self, X, y, regression=True):\n",
        "        X = self.tfidf.fit_transform(X)\n",
        "        if regression:\n",
        "            self.rfr = self.rfr.fit(X, y)\n",
        "        else:\n",
        "            self.rfc = self.rfc.fit(X, y)\n",
        "\n",
        "    def predict(self, X, regression=True):\n",
        "        X = self.tfidf.transform(X)\n",
        "        if regression:\n",
        "            return self.rfr.predict(X)\n",
        "        else:\n",
        "            return self.rfc.predict(X)\n",
        "\n",
        "    def predict_proba(self, X, regression=False):\n",
        "        X = self.tfidf.transform(X)\n",
        "        if regression:\n",
        "            raise ValueError('Cannot predict probabilites of a regression!')\n",
        "        else:\n",
        "            return self.rfc.predict_proba(X)\n",
        "\n",
        "traits = ['OPN', 'CON', 'EXT', 'AGR', 'NEU']\n",
        "model = Model()\n",
        "\n",
        "for trait in traits:\n",
        "    dp = DataPrep()\n",
        "    X_regression, y_regression = dp.prep_data('status', trait, regression=True, model_comparison=False)\n",
        "    X_categorical, y_categorical = dp.prep_data('status', trait, regression=False, model_comparison=False)\n",
        "    print('Fitting trait ' + trait + ' regression model...')\n",
        "    model.fit(X_regression, y_regression, regression=True)\n",
        "    print('Done!')\n",
        "    print('Fitting trait ' + trait + ' categorical model...')\n",
        "    model.fit(X_categorical, y_categorical, regression=False)\n",
        "    print('Done!')\n",
        "    with open('/content/' + trait + '_model.pkl', 'wb') as f:\n",
        "        # Write the model to a file.\n",
        "        pickle.dump(model, f)"
      ],
      "execution_count": null,
      "outputs": [
        {
          "output_type": "stream",
          "text": [
            "Fitting trait OPN regression model...\n",
            "Done!\n",
            "Fitting trait OPN categorical model...\n",
            "Done!\n",
            "Fitting trait CON regression model...\n",
            "Done!\n",
            "Fitting trait CON categorical model...\n",
            "Done!\n",
            "Fitting trait EXT regression model...\n",
            "Done!\n",
            "Fitting trait EXT categorical model...\n",
            "Done!\n",
            "Fitting trait AGR regression model...\n",
            "Done!\n",
            "Fitting trait AGR categorical model...\n",
            "Done!\n",
            "Fitting trait NEU regression model...\n",
            "Done!\n",
            "Fitting trait NEU categorical model...\n",
            "Done!\n"
          ],
          "name": "stdout"
        }
      ]
    },
    {
      "cell_type": "markdown",
      "metadata": {
        "id": "ZU2XkIYs-ycm"
      },
      "source": [
        "## Load the classifiers:"
      ]
    },
    {
      "cell_type": "code",
      "metadata": {
        "id": "d5x3gEshyylN"
      },
      "source": [
        "import pickle\n",
        "from sklearn.ensemble import RandomForestRegressor, RandomForestClassifier\n",
        "#from data_prep import DataPrep\n",
        "from sklearn.feature_extraction.text import TfidfVectorizer\n",
        "\n",
        "class Model():\n",
        "    def __init__(self):\n",
        "        self.rfr = RandomForestRegressor(bootstrap=True,\n",
        "         max_features='sqrt',\n",
        "         min_samples_leaf=1,\n",
        "         min_samples_split=2,\n",
        "         n_estimators= 200)\n",
        "        self.rfc = RandomForestClassifier(max_features='sqrt', n_estimators=110)\n",
        "        self.tfidf = TfidfVectorizer(stop_words='english', strip_accents='ascii')\n",
        "\n",
        "    def fit(self, X, y, regression=True):\n",
        "        X = self.tfidf.fit_transform(X)\n",
        "        if regression:\n",
        "            self.rfr = self.rfr.fit(X, y)\n",
        "        else:\n",
        "            self.rfc = self.rfc.fit(X, y)\n",
        "\n",
        "    def predict(self, X, regression=True):\n",
        "        X = self.tfidf.transform(X)\n",
        "        if regression:\n",
        "            return self.rfr.predict(X)\n",
        "        else:\n",
        "            return self.rfc.predict(X)\n",
        "\n",
        "    def predict_proba(self, X, regression=False):\n",
        "        X = self.tfidf.transform(X)\n",
        "        if regression:\n",
        "            raise ValueError('Cannot predict probabilites of a regression!')\n",
        "        else:\n",
        "            return self.rfc.predict_proba(X)\n",
        "\n",
        "M = Model()\n",
        "models={}\n",
        "traits = ['OPN', 'CON', 'EXT', 'AGR', 'NEU']\n",
        "for trait in traits:\n",
        "    with open('/content/' + trait + '_model.pkl', 'rb') as f:\n",
        "        models[trait] = pickle.load(f)"
      ],
      "execution_count": null,
      "outputs": []
    },
    {
      "cell_type": "markdown",
      "metadata": {
        "id": "WApCmIZh-5a8"
      },
      "source": [
        "## Define get_profile( ):\n",
        "the get_profile( ) function takes keywords/names as input and returns corresponding social media id's as a dictionary."
      ]
    },
    {
      "cell_type": "code",
      "metadata": {
        "id": "Kr03RPrZzMBD"
      },
      "source": [
        "from googlesearch import search\n",
        "import re\n",
        "\n",
        "def get_profile(keyword):\n",
        "  print(\"getting profiles from google..\")\n",
        "  results = list(search(keyword, num=10))\n",
        "  profiles = {\n",
        "      'twitter': ''\n",
        "  }\n",
        "  for r in results:\n",
        "    if r.find('twitter') != -1 and profiles['twitter'] == '':\n",
        "      r = re.search(r'https://twitter.com/([^/?]+)', r).group(1)\n",
        "      profiles['twitter'] = r\n",
        "\n",
        "  return profiles"
      ],
      "execution_count": null,
      "outputs": []
    },
    {
      "cell_type": "markdown",
      "metadata": {
        "id": "Kx6kpvn8_SoV"
      },
      "source": [
        "## Define get_text_from_tweets( ) :\n",
        "this function below takes the twitter username (string) as input, then gets rid of special characters using regex, and returns tweets corresponding to that user in form of a string. \n",
        "\n",
        "In the main script, we have saved the scraped tweets as information.txt to adhere with the problem statement."
      ]
    },
    {
      "cell_type": "code",
      "metadata": {
        "id": "8_-aHRJDzz5n"
      },
      "source": [
        "twt = Twitter(app_key=\"\", \n",
        "              app_secret=\"\", \n",
        "              oauth_token=\"\", \n",
        "              oauth_token_secret=\"\")\n",
        "    \n",
        "def get_text_from_tweets(user_name):\n",
        "    print(\"processing text from tweets..\")\n",
        "    tweets = twt.user(user_name, \n",
        "                    count=1000, \n",
        "                    exclude_replies=False, \n",
        "                    include_retweets=True)\n",
        "        \n",
        "    to_csv(list(tweets), filename=user_name+'_tweets.csv')\n",
        "\n",
        "    tweets_df = pd.read_csv(user_name+\"_tweets.csv\")\n",
        "    just_tweets=tweets_df[[\"text\"]]\n",
        "    ##remove urls \n",
        "    no_urls = just_tweets['text'].apply(lambda x: re.split('https:\\/\\/.*', str(x))[0])\n",
        "    #just_text_from_tweets.head(50)\n",
        "    no_urls=no_urls.to_frame()\n",
        "\n",
        "    # convert rows to a string\n",
        "    tweets_string = \"\"\n",
        "    for idx,row in no_urls.iterrows():\n",
        "        tweets_string += (row['text'] + '. ')\n",
        "\n",
        "    clean_text = re.sub(\"[^A-Za-z0-9. ]\",\" \",tweets_string)\n",
        "    clean_text = clean_text.strip()\n",
        "    return(clean_text)\n"
      ],
      "execution_count": null,
      "outputs": []
    },
    {
      "cell_type": "markdown",
      "metadata": {
        "id": "w6IFNlQUAEF2"
      },
      "source": [
        "## Define predict_personality( )\n",
        "This function accepts a string as input and returns an array of floats, each corresponding to one of 5 personality traits."
      ]
    },
    {
      "cell_type": "code",
      "metadata": {
        "id": "NuFhpYU8z9v7"
      },
      "source": [
        "def predict(X):\n",
        "        X=[X]\n",
        "        predictions = {}\n",
        "        traits = ['OPN', 'CON', 'EXT', 'AGR', 'NEU']\n",
        "        for trait in traits:\n",
        "            pkl_model = models[trait]\n",
        "            trait_scores = pkl_model.predict(X, regression=True).reshape(1, -1)\n",
        "            # scaler = MinMaxScaler(feature_range=(0, 50))\n",
        "            # print(scaler.fit_transform(trait_scores))\n",
        "            # scaled_trait_scores = scaler.fit_transform(trait_scores)\n",
        "            predictions['pred_s'+trait] = trait_scores.flatten()[0]\n",
        "            # predictions['pred_s'+trait] = scaled_trait_scores.flatten()\n",
        "\n",
        "            trait_categories = pkl_model.predict(X, regression=False)\n",
        "            predictions['pred_c'+trait] = str(trait_categories[0])\n",
        "            # predictions['pred_c'+trait] = trait_categories\n",
        "\n",
        "            trait_categories_probs = pkl_model.predict_proba(X)\n",
        "            predictions['pred_prob_c'+trait] = trait_categories_probs[:, 1][0]\n",
        "            # predictions['pred_prob_c'+trait] = trait_categories_probs[:, 1]\n",
        "        return predictions"
      ],
      "execution_count": null,
      "outputs": []
    },
    {
      "cell_type": "markdown",
      "metadata": {
        "id": "0vMmBUvjAoLp"
      },
      "source": [
        "## Define display_results( ):\n",
        "This function plots a bar chart, representing each of the 5 OCEAN tendencies of the user."
      ]
    },
    {
      "cell_type": "code",
      "metadata": {
        "id": "9q6wirOs6_F8"
      },
      "source": [
        "import plotly.graph_objs as go\n",
        "from plotly.offline import iplot"
      ],
      "execution_count": null,
      "outputs": []
    },
    {
      "cell_type": "code",
      "metadata": {
        "id": "PmU7sLWf2VzD"
      },
      "source": [
        "def display_results(predictions, user_name):\n",
        "    attrs = [predictions['pred_prob_cOPN'],\n",
        "             predictions['pred_prob_cCON'],\n",
        "             predictions['pred_prob_cEXT'],\n",
        "             predictions['pred_prob_cAGR'],\n",
        "             predictions['pred_prob_cNEU']]\n",
        "\n",
        "    y=attrs\n",
        "    t=[str(i*100)[0:5]+\"%\" for i in y]\n",
        "    x=['Openness','Conscientiousness','Extraverison','Agreeableness','Neuroticism']\n",
        "    colors=['lightblue','lightsalmon','pink', 'lightgreen', 'indianred']\n",
        "    data = [go.Bar(x = x, \n",
        "                   y = y, \n",
        "                   text=t,\n",
        "                   textposition='auto'\n",
        "                   )]\n",
        "\n",
        "    fig = go.Figure(data=data)\n",
        "\n",
        "    fig.update_traces(marker_color=colors, marker_line_color='rgb(8,48,107)',\n",
        "                  marker_line_width=1.5, opacity=0.7)\n",
        "    \n",
        "    #fig.update_traces(texttemplate=, textposition='outside')\n",
        "\n",
        "    fig.update_layout(title_text=user_name+\"'s personality report\")\n",
        "    fig.update_layout(yaxis_tickformat = '%')\n",
        "\n",
        "\n",
        "    iplot(fig)\n"
      ],
      "execution_count": null,
      "outputs": []
    },
    {
      "cell_type": "markdown",
      "metadata": {
        "id": "RVE5llsPBHMF"
      },
      "source": [
        "##Moment of truth:\n",
        "Feel free to replace Elon Musk with Chetan Bhagat, Ratan Tata etc.\n"
      ]
    },
    {
      "cell_type": "code",
      "metadata": {
        "colab": {
          "base_uri": "https://localhost:8080/"
        },
        "id": "gnrzc3rO1KWk",
        "outputId": "d07f9498-d600-43ab-f5a4-031560b1b3c9"
      },
      "source": [
        "user_name = get_profile(\"elonmusk\")['twitter']\n",
        "text = get_text_from_tweets(user_name)\n",
        "predictions = predict(text)\n",
        "#display_results(predictions=predictions, user_name=user_name)"
      ],
      "execution_count": null,
      "outputs": [
        {
          "output_type": "stream",
          "text": [
            "getting profiles from google..\n",
            "processing text from tweets..\n"
          ],
          "name": "stdout"
        }
      ]
    },
    {
      "cell_type": "code",
      "metadata": {
        "id": "Mj_krQsXVxTt",
        "colab": {
          "base_uri": "https://localhost:8080/",
          "height": 542
        },
        "outputId": "163d840d-61b6-45d4-933a-f2dad04cd510"
      },
      "source": [
        "display_results(predictions=predictions, user_name=user_name)"
      ],
      "execution_count": null,
      "outputs": [
        {
          "output_type": "display_data",
          "data": {
            "text/html": [
              "<html>\n",
              "<head><meta charset=\"utf-8\" /></head>\n",
              "<body>\n",
              "    <div>\n",
              "            <script src=\"https://cdnjs.cloudflare.com/ajax/libs/mathjax/2.7.5/MathJax.js?config=TeX-AMS-MML_SVG\"></script><script type=\"text/javascript\">if (window.MathJax) {MathJax.Hub.Config({SVG: {font: \"STIX-Web\"}});}</script>\n",
              "                <script type=\"text/javascript\">window.PlotlyConfig = {MathJaxConfig: 'local'};</script>\n",
              "        <script src=\"https://cdn.plot.ly/plotly-latest.min.js\"></script>    \n",
              "            <div id=\"c05dc21f-ebfc-4bfa-8f3e-ee5ec1478a99\" class=\"plotly-graph-div\" style=\"height:525px; width:100%;\"></div>\n",
              "            <script type=\"text/javascript\">\n",
              "                \n",
              "                    window.PLOTLYENV=window.PLOTLYENV || {};\n",
              "                    \n",
              "                if (document.getElementById(\"c05dc21f-ebfc-4bfa-8f3e-ee5ec1478a99\")) {\n",
              "                    Plotly.newPlot(\n",
              "                        'c05dc21f-ebfc-4bfa-8f3e-ee5ec1478a99',\n",
              "                        [{\"marker\": {\"color\": [\"lightblue\", \"lightsalmon\", \"pink\", \"lightgreen\", \"indianred\"], \"line\": {\"color\": \"rgb(8,48,107)\", \"width\": 1.5}}, \"opacity\": 0.7, \"text\": [\"78.18%\", \"12.72%\", \"17.72%\", \"66.58%\", \"15.0%\"], \"textposition\": \"auto\", \"type\": \"bar\", \"x\": [\"Openness\", \"Conscientiousness\", \"Extraverison\", \"Agreeableness\", \"Neuroticism\"], \"y\": [0.7818181818181819, 0.12727272727272726, 0.17727272727272728, 0.6658471084109957, 0.15]}],\n",
              "                        {\"template\": {\"data\": {\"bar\": [{\"error_x\": {\"color\": \"#2a3f5f\"}, \"error_y\": {\"color\": \"#2a3f5f\"}, \"marker\": {\"line\": {\"color\": \"#E5ECF6\", \"width\": 0.5}}, \"type\": \"bar\"}], \"barpolar\": [{\"marker\": {\"line\": {\"color\": \"#E5ECF6\", \"width\": 0.5}}, \"type\": \"barpolar\"}], \"carpet\": [{\"aaxis\": {\"endlinecolor\": \"#2a3f5f\", \"gridcolor\": \"white\", \"linecolor\": \"white\", \"minorgridcolor\": \"white\", \"startlinecolor\": \"#2a3f5f\"}, \"baxis\": {\"endlinecolor\": \"#2a3f5f\", \"gridcolor\": \"white\", \"linecolor\": \"white\", \"minorgridcolor\": \"white\", \"startlinecolor\": \"#2a3f5f\"}, \"type\": \"carpet\"}], \"choropleth\": [{\"colorbar\": {\"outlinewidth\": 0, \"ticks\": \"\"}, \"type\": \"choropleth\"}], \"contour\": [{\"colorbar\": {\"outlinewidth\": 0, \"ticks\": \"\"}, \"colorscale\": [[0.0, \"#0d0887\"], [0.1111111111111111, \"#46039f\"], [0.2222222222222222, \"#7201a8\"], [0.3333333333333333, \"#9c179e\"], [0.4444444444444444, \"#bd3786\"], [0.5555555555555556, \"#d8576b\"], [0.6666666666666666, \"#ed7953\"], [0.7777777777777778, \"#fb9f3a\"], [0.8888888888888888, \"#fdca26\"], [1.0, \"#f0f921\"]], \"type\": \"contour\"}], \"contourcarpet\": [{\"colorbar\": {\"outlinewidth\": 0, \"ticks\": \"\"}, \"type\": \"contourcarpet\"}], \"heatmap\": [{\"colorbar\": {\"outlinewidth\": 0, \"ticks\": \"\"}, \"colorscale\": [[0.0, \"#0d0887\"], [0.1111111111111111, \"#46039f\"], [0.2222222222222222, \"#7201a8\"], [0.3333333333333333, \"#9c179e\"], [0.4444444444444444, \"#bd3786\"], [0.5555555555555556, \"#d8576b\"], [0.6666666666666666, \"#ed7953\"], [0.7777777777777778, \"#fb9f3a\"], [0.8888888888888888, \"#fdca26\"], [1.0, \"#f0f921\"]], \"type\": \"heatmap\"}], \"heatmapgl\": [{\"colorbar\": {\"outlinewidth\": 0, \"ticks\": \"\"}, \"colorscale\": [[0.0, \"#0d0887\"], [0.1111111111111111, \"#46039f\"], [0.2222222222222222, \"#7201a8\"], [0.3333333333333333, \"#9c179e\"], [0.4444444444444444, \"#bd3786\"], [0.5555555555555556, \"#d8576b\"], [0.6666666666666666, \"#ed7953\"], [0.7777777777777778, \"#fb9f3a\"], [0.8888888888888888, \"#fdca26\"], [1.0, \"#f0f921\"]], \"type\": \"heatmapgl\"}], \"histogram\": [{\"marker\": {\"colorbar\": {\"outlinewidth\": 0, \"ticks\": \"\"}}, \"type\": \"histogram\"}], \"histogram2d\": [{\"colorbar\": {\"outlinewidth\": 0, \"ticks\": \"\"}, \"colorscale\": [[0.0, \"#0d0887\"], [0.1111111111111111, \"#46039f\"], [0.2222222222222222, \"#7201a8\"], [0.3333333333333333, \"#9c179e\"], [0.4444444444444444, \"#bd3786\"], [0.5555555555555556, \"#d8576b\"], [0.6666666666666666, \"#ed7953\"], [0.7777777777777778, \"#fb9f3a\"], [0.8888888888888888, \"#fdca26\"], [1.0, \"#f0f921\"]], \"type\": \"histogram2d\"}], \"histogram2dcontour\": [{\"colorbar\": {\"outlinewidth\": 0, \"ticks\": \"\"}, \"colorscale\": [[0.0, \"#0d0887\"], [0.1111111111111111, \"#46039f\"], [0.2222222222222222, \"#7201a8\"], [0.3333333333333333, \"#9c179e\"], [0.4444444444444444, \"#bd3786\"], [0.5555555555555556, \"#d8576b\"], [0.6666666666666666, \"#ed7953\"], [0.7777777777777778, \"#fb9f3a\"], [0.8888888888888888, \"#fdca26\"], [1.0, \"#f0f921\"]], \"type\": \"histogram2dcontour\"}], \"mesh3d\": [{\"colorbar\": {\"outlinewidth\": 0, \"ticks\": \"\"}, \"type\": \"mesh3d\"}], \"parcoords\": [{\"line\": {\"colorbar\": {\"outlinewidth\": 0, \"ticks\": \"\"}}, \"type\": \"parcoords\"}], \"pie\": [{\"automargin\": true, \"type\": \"pie\"}], \"scatter\": [{\"marker\": {\"colorbar\": {\"outlinewidth\": 0, \"ticks\": \"\"}}, \"type\": \"scatter\"}], \"scatter3d\": [{\"line\": {\"colorbar\": {\"outlinewidth\": 0, \"ticks\": \"\"}}, \"marker\": {\"colorbar\": {\"outlinewidth\": 0, \"ticks\": \"\"}}, \"type\": \"scatter3d\"}], \"scattercarpet\": [{\"marker\": {\"colorbar\": {\"outlinewidth\": 0, \"ticks\": \"\"}}, \"type\": \"scattercarpet\"}], \"scattergeo\": [{\"marker\": {\"colorbar\": {\"outlinewidth\": 0, \"ticks\": \"\"}}, \"type\": \"scattergeo\"}], \"scattergl\": [{\"marker\": {\"colorbar\": {\"outlinewidth\": 0, \"ticks\": \"\"}}, \"type\": \"scattergl\"}], \"scattermapbox\": [{\"marker\": {\"colorbar\": {\"outlinewidth\": 0, \"ticks\": \"\"}}, \"type\": \"scattermapbox\"}], \"scatterpolar\": [{\"marker\": {\"colorbar\": {\"outlinewidth\": 0, \"ticks\": \"\"}}, \"type\": \"scatterpolar\"}], \"scatterpolargl\": [{\"marker\": {\"colorbar\": {\"outlinewidth\": 0, \"ticks\": \"\"}}, \"type\": \"scatterpolargl\"}], \"scatterternary\": [{\"marker\": {\"colorbar\": {\"outlinewidth\": 0, \"ticks\": \"\"}}, \"type\": \"scatterternary\"}], \"surface\": [{\"colorbar\": {\"outlinewidth\": 0, \"ticks\": \"\"}, \"colorscale\": [[0.0, \"#0d0887\"], [0.1111111111111111, \"#46039f\"], [0.2222222222222222, \"#7201a8\"], [0.3333333333333333, \"#9c179e\"], [0.4444444444444444, \"#bd3786\"], [0.5555555555555556, \"#d8576b\"], [0.6666666666666666, \"#ed7953\"], [0.7777777777777778, \"#fb9f3a\"], [0.8888888888888888, \"#fdca26\"], [1.0, \"#f0f921\"]], \"type\": \"surface\"}], \"table\": [{\"cells\": {\"fill\": {\"color\": \"#EBF0F8\"}, \"line\": {\"color\": \"white\"}}, \"header\": {\"fill\": {\"color\": \"#C8D4E3\"}, \"line\": {\"color\": \"white\"}}, \"type\": \"table\"}]}, \"layout\": {\"annotationdefaults\": {\"arrowcolor\": \"#2a3f5f\", \"arrowhead\": 0, \"arrowwidth\": 1}, \"coloraxis\": {\"colorbar\": {\"outlinewidth\": 0, \"ticks\": \"\"}}, \"colorscale\": {\"diverging\": [[0, \"#8e0152\"], [0.1, \"#c51b7d\"], [0.2, \"#de77ae\"], [0.3, \"#f1b6da\"], [0.4, \"#fde0ef\"], [0.5, \"#f7f7f7\"], [0.6, \"#e6f5d0\"], [0.7, \"#b8e186\"], [0.8, \"#7fbc41\"], [0.9, \"#4d9221\"], [1, \"#276419\"]], \"sequential\": [[0.0, \"#0d0887\"], [0.1111111111111111, \"#46039f\"], [0.2222222222222222, \"#7201a8\"], [0.3333333333333333, \"#9c179e\"], [0.4444444444444444, \"#bd3786\"], [0.5555555555555556, \"#d8576b\"], [0.6666666666666666, \"#ed7953\"], [0.7777777777777778, \"#fb9f3a\"], [0.8888888888888888, \"#fdca26\"], [1.0, \"#f0f921\"]], \"sequentialminus\": [[0.0, \"#0d0887\"], [0.1111111111111111, \"#46039f\"], [0.2222222222222222, \"#7201a8\"], [0.3333333333333333, \"#9c179e\"], [0.4444444444444444, \"#bd3786\"], [0.5555555555555556, \"#d8576b\"], [0.6666666666666666, \"#ed7953\"], [0.7777777777777778, \"#fb9f3a\"], [0.8888888888888888, \"#fdca26\"], [1.0, \"#f0f921\"]]}, \"colorway\": [\"#636efa\", \"#EF553B\", \"#00cc96\", \"#ab63fa\", \"#FFA15A\", \"#19d3f3\", \"#FF6692\", \"#B6E880\", \"#FF97FF\", \"#FECB52\"], \"font\": {\"color\": \"#2a3f5f\"}, \"geo\": {\"bgcolor\": \"white\", \"lakecolor\": \"white\", \"landcolor\": \"#E5ECF6\", \"showlakes\": true, \"showland\": true, \"subunitcolor\": \"white\"}, \"hoverlabel\": {\"align\": \"left\"}, \"hovermode\": \"closest\", \"mapbox\": {\"style\": \"light\"}, \"paper_bgcolor\": \"white\", \"plot_bgcolor\": \"#E5ECF6\", \"polar\": {\"angularaxis\": {\"gridcolor\": \"white\", \"linecolor\": \"white\", \"ticks\": \"\"}, \"bgcolor\": \"#E5ECF6\", \"radialaxis\": {\"gridcolor\": \"white\", \"linecolor\": \"white\", \"ticks\": \"\"}}, \"scene\": {\"xaxis\": {\"backgroundcolor\": \"#E5ECF6\", \"gridcolor\": \"white\", \"gridwidth\": 2, \"linecolor\": \"white\", \"showbackground\": true, \"ticks\": \"\", \"zerolinecolor\": \"white\"}, \"yaxis\": {\"backgroundcolor\": \"#E5ECF6\", \"gridcolor\": \"white\", \"gridwidth\": 2, \"linecolor\": \"white\", \"showbackground\": true, \"ticks\": \"\", \"zerolinecolor\": \"white\"}, \"zaxis\": {\"backgroundcolor\": \"#E5ECF6\", \"gridcolor\": \"white\", \"gridwidth\": 2, \"linecolor\": \"white\", \"showbackground\": true, \"ticks\": \"\", \"zerolinecolor\": \"white\"}}, \"shapedefaults\": {\"line\": {\"color\": \"#2a3f5f\"}}, \"ternary\": {\"aaxis\": {\"gridcolor\": \"white\", \"linecolor\": \"white\", \"ticks\": \"\"}, \"baxis\": {\"gridcolor\": \"white\", \"linecolor\": \"white\", \"ticks\": \"\"}, \"bgcolor\": \"#E5ECF6\", \"caxis\": {\"gridcolor\": \"white\", \"linecolor\": \"white\", \"ticks\": \"\"}}, \"title\": {\"x\": 0.05}, \"xaxis\": {\"automargin\": true, \"gridcolor\": \"white\", \"linecolor\": \"white\", \"ticks\": \"\", \"title\": {\"standoff\": 15}, \"zerolinecolor\": \"white\", \"zerolinewidth\": 2}, \"yaxis\": {\"automargin\": true, \"gridcolor\": \"white\", \"linecolor\": \"white\", \"ticks\": \"\", \"title\": {\"standoff\": 15}, \"zerolinecolor\": \"white\", \"zerolinewidth\": 2}}}, \"title\": {\"text\": \"elonmusk's personality report\"}, \"yaxis\": {\"tickformat\": \"%\"}},\n",
              "                        {\"responsive\": true}\n",
              "                    ).then(function(){\n",
              "                            \n",
              "var gd = document.getElementById('c05dc21f-ebfc-4bfa-8f3e-ee5ec1478a99');\n",
              "var x = new MutationObserver(function (mutations, observer) {{\n",
              "        var display = window.getComputedStyle(gd).display;\n",
              "        if (!display || display === 'none') {{\n",
              "            console.log([gd, 'removed!']);\n",
              "            Plotly.purge(gd);\n",
              "            observer.disconnect();\n",
              "        }}\n",
              "}});\n",
              "\n",
              "// Listen for the removal of the full notebook cells\n",
              "var notebookContainer = gd.closest('#notebook-container');\n",
              "if (notebookContainer) {{\n",
              "    x.observe(notebookContainer, {childList: true});\n",
              "}}\n",
              "\n",
              "// Listen for the clearing of the current output cell\n",
              "var outputEl = gd.closest('.output');\n",
              "if (outputEl) {{\n",
              "    x.observe(outputEl, {childList: true});\n",
              "}}\n",
              "\n",
              "                        })\n",
              "                };\n",
              "                \n",
              "            </script>\n",
              "        </div>\n",
              "</body>\n",
              "</html>"
            ]
          },
          "metadata": {
            "tags": []
          }
        }
      ]
    },
    {
      "cell_type": "code",
      "metadata": {
        "id": "jAIfRVHg0Wsx"
      },
      "source": [
        ""
      ],
      "execution_count": null,
      "outputs": []
    }
  ]
}