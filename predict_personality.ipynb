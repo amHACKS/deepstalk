{
  "nbformat": 4,
  "nbformat_minor": 0,
  "metadata": {
    "colab": {
      "name": "big5_showcase.ipynb",
      "provenance": [],
      "collapsed_sections": [],
      "include_colab_link": true
    },
    "kernelspec": {
      "name": "python3",
      "display_name": "Python 3"
    }
  },
  "cells": [
    {
      "cell_type": "markdown",
      "metadata": {
        "id": "view-in-github",
        "colab_type": "text"
      },
      "source": [
        "<a href=\"https://colab.research.google.com/github/Mainakdeb/e_summit/blob/main/predict_personality.ipynb\" target=\"_parent\"><img src=\"https://colab.research.google.com/assets/colab-badge.svg\" alt=\"Open In Colab\"/></a>"
      ]
    },
    {
      "cell_type": "markdown",
      "metadata": {
        "id": "wF0-f9Vj8i2W"
      },
      "source": [
        "This notebook demostrates how our script works. Check out the main code here - https://github.com/Mainakdeb/e_summit\r\n"
      ]
    },
    {
      "cell_type": "markdown",
      "metadata": {
        "id": "Ub3aEUZUGfMr"
      },
      "source": [
        "## Clone our repository to access training data:"
      ]
    },
    {
      "cell_type": "code",
      "metadata": {
        "id": "xjIk_8vQC1uA"
      },
      "source": [
        "!git clone https://github.com/Mainakdeb/e_summit.git"
      ],
      "execution_count": null,
      "outputs": []
    },
    {
      "cell_type": "markdown",
      "metadata": {
        "id": "KGDKHqThEeKp"
      },
      "source": [
        "## Install socialreaper version 0.3.0\r\n",
        "Most of the dependencies needed are already available in colab, when running the script locally, make sure to run \r\n",
        "```\r\n",
        "pip install -r requirements.txt\r\n",
        "```"
      ]
    },
    {
      "cell_type": "code",
      "metadata": {
        "id": "H0ReyKVIEV5T"
      },
      "source": [
        "!pip3 install socialreaper==0.3.0"
      ],
      "execution_count": null,
      "outputs": []
    },
    {
      "cell_type": "code",
      "metadata": {
        "id": "SHKGxZlTEWow"
      },
      "source": [
        "import optparse\r\n",
        "import pickle\r\n",
        "from sklearn.feature_extraction.text import CountVectorizer\r\n",
        "import matplotlib.pyplot as plt\r\n",
        "import pandas as pd\r\n",
        "import re\r\n",
        "import numpy as np\r\n",
        "import pickle\r\n",
        "from sklearn.ensemble import RandomForestRegressor, RandomForestClassifier\r\n",
        "#from data_prep import DataPrep\r\n",
        "from sklearn.feature_extraction.text import TfidfVectorizer\r\n",
        "\r\n",
        "from socialreaper import Twitter\r\n",
        "from socialreaper.tools import to_csv"
      ],
      "execution_count": 53,
      "outputs": []
    },
    {
      "cell_type": "markdown",
      "metadata": {
        "id": "MFy6RTnvGS1H"
      },
      "source": [
        "## Train Classifier:"
      ]
    },
    {
      "cell_type": "code",
      "metadata": {
        "id": "GS2GnRBX3NIV"
      },
      "source": [
        "import pandas as pd\n",
        "\n",
        "class DataPrep():\n",
        "    def __init__(self):\n",
        "        self.trait_cat_dict = {\n",
        "            'O': 'cOPN',\n",
        "            'C': 'cCON',\n",
        "            'E': 'cEXT',\n",
        "            'A': 'cAGR',\n",
        "            'N': 'cNEU',\n",
        "            'OPN': 'cOPN',\n",
        "            'CON': 'cCON',\n",
        "            'EXT': 'cEXT',\n",
        "            'AGR': 'cAGR',\n",
        "            'NEU': 'cNEU',\n",
        "            'Openness': 'cOPN',\n",
        "            'Conscientiousness': 'cCON',\n",
        "            'Extraversion': 'cEXT',\n",
        "            'Agreeableness': 'cAGR',\n",
        "            'Neuroticism': 'cNEU'\n",
        "            }\n",
        "        self.trait_score_dict = {\n",
        "            'O': 'sOPN',\n",
        "            'C': 'sCON',\n",
        "            'E': 'sEXT',\n",
        "            'A': 'sAGR',\n",
        "            'N': 'sNEU',\n",
        "            'OPN': 'sOPN',\n",
        "            'CON': 'sCON',\n",
        "            'EXT': 'sEXT',\n",
        "            'AGR': 'sAGR',\n",
        "            'NEU': 'sNEU',\n",
        "            'Openness': 'sOPN',\n",
        "            'Conscientiousness': 'sCON',\n",
        "            'Extraversion': 'sEXT',\n",
        "            'Agreeableness': 'sAGR',\n",
        "            'Neuroticism': 'sNEU'\n",
        "            }\n",
        "        self.LIWC_features = [\n",
        "            'WPS', 'Unique', 'Dic', 'Sixltr', 'Negate', 'Assent', 'Article', 'Preps', 'Number',\n",
        "            'Pronoun', 'I', 'We', 'Self', 'You', 'Other',\n",
        "            'Affect', 'Posemo', 'Posfeel', 'Optim', 'Negemo', 'Anx', 'Anger', 'Sad',\n",
        "            'Cogmech', 'Cause', 'Insight', 'Discrep', 'Inhib', 'Tentat', 'Certain',\n",
        "            'Senses', 'See', 'Hear', 'Feel',\n",
        "            'Social', 'Comm', 'Othref', 'Friends', 'Family', 'Humans',\n",
        "            'Time', 'Past', 'Present', 'Future',\n",
        "            'Space', 'Up', 'Down', 'Incl', 'Excl', 'Motion',\n",
        "            'Occup', 'School', 'Job', 'Achieve',\n",
        "            'Leisure', 'Home', 'Sports', 'TV', 'Music',\n",
        "            'Money',\n",
        "            'Metaph', 'Relig', 'Death', 'Physcal', 'Body', 'Sexual', 'Eating', 'Sleep', 'Groom',\n",
        "            'Allpct', 'Period', 'Comma', 'Colon', 'Semic', 'Qmark', 'Exclam', 'Dash', 'Quote', 'Apostro', 'Parenth', 'Otherp',\n",
        "            'Swear', 'Nonfl', 'Fillers',\n",
        "        ]\n",
        "\n",
        "    def prep_data(self, type, trait, regression=False, model_comparison=False):\n",
        "        df_status = self.prep_status_data()\n",
        "        tfidf = TfidfVectorizer(stop_words='english', strip_accents='ascii')\n",
        "        if type == 'essay':\n",
        "            if model_comparison:\n",
        "                X = tfidf.fit_transform(df_essay['TEXT'])\n",
        "            else:\n",
        "                X = df_essay['TEXT']\n",
        "\n",
        "            y_column = self.trait_cat_dict[trait]\n",
        "            y = df_essay[y_column]\n",
        "\n",
        "        elif type == 'status':\n",
        "            other_features_columns = [\n",
        "                'NETWORKSIZE',\n",
        "                'BETWEENNESS',\n",
        "                'NBETWEENNESS',\n",
        "                'DENSITY',\n",
        "                'BROKERAGE',\n",
        "                'NBROKERAGE',\n",
        "                'TRANSITIVITY'\n",
        "            ]\n",
        "            if model_comparison:\n",
        "                X = tfidf.fit_transform(df_status['STATUS'])\n",
        "                # X = np.nan_to_num(np.column_stack((result, df_status[other_features_columns])))\n",
        "            # Data to fit production model\n",
        "            else:\n",
        "                X = df_status['STATUS']\n",
        "            if regression:\n",
        "                y_column = self.trait_score_dict[trait]\n",
        "            else:\n",
        "                y_column = self.trait_cat_dict[trait]\n",
        "            y = df_status[y_column]\n",
        "        return X, y\n",
        "\n",
        "    def prep_status_data(self):\n",
        "        df = pd.read_csv('/content/e_summit/data/mypersonality_final.csv', encoding=\"ISO-8859-1\")\n",
        "        df = self.convert_traits_to_boolean(df)\n",
        "        return df\n",
        "\n",
        "    def prep_essay_data(self):\n",
        "        df_essays = pd.read_csv('data/personality-detection-my-copy/essays.csv', encoding=\"ISO-8859-1\")\n",
        "        df_mairesse = pd.read_csv('data/personality-detection-my-copy/mairesse.csv', encoding=\"ISO-8859-1\", header=None)\n",
        "        df_mairesse.columns = ['#AUTHID'] + self.LIWC_features\n",
        "        df = df_essays.merge(df_mairesse, how = 'inner', on = ['#AUTHID'])\n",
        "        # add word count (WC) column\n",
        "        df['WC'] = df['TEXT'].str.split().str.len()\n",
        "        df = self.convert_traits_to_boolean(df)\n",
        "        return df\n",
        "\n",
        "    def convert_traits_to_boolean(self, df):\n",
        "        trait_columns = ['cOPN', 'cCON', 'cEXT', 'cAGR', 'cNEU']\n",
        "        d = {'y': True, 'n': False}\n",
        "\n",
        "        for trait in trait_columns:\n",
        "            df[trait] = df[trait].map(d)\n",
        "        return df\n",
        "\n",
        "    def load_data(self, filepath):\n",
        "        return pd.read_csv(filepath, encoding=\"ISO-8859-1\")"
      ],
      "execution_count": 42,
      "outputs": []
    },
    {
      "cell_type": "code",
      "metadata": {
        "colab": {
          "base_uri": "https://localhost:8080/"
        },
        "id": "CcR0vW4p8CPk",
        "outputId": "d6204863-21fe-4bc4-87b5-de7448787e17"
      },
      "source": [
        "class Model():\r\n",
        "    def __init__(self):\r\n",
        "        self.rfr = RandomForestRegressor(bootstrap=True,\r\n",
        "         max_features='sqrt',\r\n",
        "         min_samples_leaf=1,\r\n",
        "         min_samples_split=2,\r\n",
        "         n_estimators= 200)\r\n",
        "        self.rfc = RandomForestClassifier(max_features='sqrt', n_estimators=110)\r\n",
        "        self.tfidf = TfidfVectorizer(stop_words='english', strip_accents='ascii')\r\n",
        "\r\n",
        "    def fit(self, X, y, regression=True):\r\n",
        "        X = self.tfidf.fit_transform(X)\r\n",
        "        if regression:\r\n",
        "            self.rfr = self.rfr.fit(X, y)\r\n",
        "        else:\r\n",
        "            self.rfc = self.rfc.fit(X, y)\r\n",
        "\r\n",
        "    def predict(self, X, regression=True):\r\n",
        "        X = self.tfidf.transform(X)\r\n",
        "        if regression:\r\n",
        "            return self.rfr.predict(X)\r\n",
        "        else:\r\n",
        "            return self.rfc.predict(X)\r\n",
        "\r\n",
        "    def predict_proba(self, X, regression=False):\r\n",
        "        X = self.tfidf.transform(X)\r\n",
        "        if regression:\r\n",
        "            raise ValueError('Cannot predict probabilites of a regression!')\r\n",
        "        else:\r\n",
        "            return self.rfc.predict_proba(X)\r\n",
        "\r\n",
        "traits = ['OPN', 'CON', 'EXT', 'AGR', 'NEU']\r\n",
        "model = Model()\r\n",
        "\r\n",
        "for trait in traits:\r\n",
        "    dp = DataPrep()\r\n",
        "    X_regression, y_regression = dp.prep_data('status', trait, regression=True, model_comparison=False)\r\n",
        "    X_categorical, y_categorical = dp.prep_data('status', trait, regression=False, model_comparison=False)\r\n",
        "    print('Fitting trait ' + trait + ' regression model...')\r\n",
        "    model.fit(X_regression, y_regression, regression=True)\r\n",
        "    print('Done!')\r\n",
        "    print('Fitting trait ' + trait + ' categorical model...')\r\n",
        "    model.fit(X_categorical, y_categorical, regression=False)\r\n",
        "    print('Done!')\r\n",
        "    with open('/content/' + trait + '_model.pkl', 'wb') as f:\r\n",
        "        # Write the model to a file.\r\n",
        "        pickle.dump(model, f)"
      ],
      "execution_count": 45,
      "outputs": [
        {
          "output_type": "stream",
          "text": [
            "Fitting trait OPN regression model...\n",
            "Done!\n",
            "Fitting trait OPN categorical model...\n",
            "Done!\n",
            "Fitting trait CON regression model...\n",
            "Done!\n",
            "Fitting trait CON categorical model...\n",
            "Done!\n",
            "Fitting trait EXT regression model...\n",
            "Done!\n",
            "Fitting trait EXT categorical model...\n",
            "Done!\n",
            "Fitting trait AGR regression model...\n",
            "Done!\n",
            "Fitting trait AGR categorical model...\n",
            "Done!\n",
            "Fitting trait NEU regression model...\n",
            "Done!\n",
            "Fitting trait NEU categorical model...\n",
            "Done!\n"
          ],
          "name": "stdout"
        }
      ]
    },
    {
      "cell_type": "markdown",
      "metadata": {
        "id": "ZU2XkIYs-ycm"
      },
      "source": [
        "## Load the classifiers:"
      ]
    },
    {
      "cell_type": "code",
      "metadata": {
        "id": "d5x3gEshyylN"
      },
      "source": [
        "import pickle\r\n",
        "from sklearn.ensemble import RandomForestRegressor, RandomForestClassifier\r\n",
        "#from data_prep import DataPrep\r\n",
        "from sklearn.feature_extraction.text import TfidfVectorizer\r\n",
        "\r\n",
        "class Model():\r\n",
        "    def __init__(self):\r\n",
        "        self.rfr = RandomForestRegressor(bootstrap=True,\r\n",
        "         max_features='sqrt',\r\n",
        "         min_samples_leaf=1,\r\n",
        "         min_samples_split=2,\r\n",
        "         n_estimators= 200)\r\n",
        "        self.rfc = RandomForestClassifier(max_features='sqrt', n_estimators=110)\r\n",
        "        self.tfidf = TfidfVectorizer(stop_words='english', strip_accents='ascii')\r\n",
        "\r\n",
        "    def fit(self, X, y, regression=True):\r\n",
        "        X = self.tfidf.fit_transform(X)\r\n",
        "        if regression:\r\n",
        "            self.rfr = self.rfr.fit(X, y)\r\n",
        "        else:\r\n",
        "            self.rfc = self.rfc.fit(X, y)\r\n",
        "\r\n",
        "    def predict(self, X, regression=True):\r\n",
        "        X = self.tfidf.transform(X)\r\n",
        "        if regression:\r\n",
        "            return self.rfr.predict(X)\r\n",
        "        else:\r\n",
        "            return self.rfc.predict(X)\r\n",
        "\r\n",
        "    def predict_proba(self, X, regression=False):\r\n",
        "        X = self.tfidf.transform(X)\r\n",
        "        if regression:\r\n",
        "            raise ValueError('Cannot predict probabilites of a regression!')\r\n",
        "        else:\r\n",
        "            return self.rfc.predict_proba(X)\r\n",
        "\r\n",
        "M = Model()\r\n",
        "models={}\r\n",
        "traits = ['OPN', 'CON', 'EXT', 'AGR', 'NEU']\r\n",
        "for trait in traits:\r\n",
        "    with open('/content/' + trait + '_model.pkl', 'rb') as f:\r\n",
        "        models[trait] = pickle.load(f)"
      ],
      "execution_count": 46,
      "outputs": []
    },
    {
      "cell_type": "markdown",
      "metadata": {
        "id": "WApCmIZh-5a8"
      },
      "source": [
        "## Define get_profile( ):\r\n",
        "the get_profile( ) function takes keywords/names as input and returns corresponding social media id's as a dictionary."
      ]
    },
    {
      "cell_type": "code",
      "metadata": {
        "id": "Kr03RPrZzMBD"
      },
      "source": [
        "from googlesearch import search\r\n",
        "import re\r\n",
        "\r\n",
        "def get_profile(keyword):\r\n",
        "  print(\"getting profiles from google..\")\r\n",
        "  results = list(search(keyword, num=10))\r\n",
        "  profiles = {\r\n",
        "      'twitter': ''\r\n",
        "  }\r\n",
        "  for r in results:\r\n",
        "    if r.find('twitter') != -1 and profiles['twitter'] == '':\r\n",
        "      r = re.search(r'https://twitter.com/([^/?]+)', r).group(1)\r\n",
        "      profiles['twitter'] = r\r\n",
        "\r\n",
        "  return profiles"
      ],
      "execution_count": 47,
      "outputs": []
    },
    {
      "cell_type": "markdown",
      "metadata": {
        "id": "Kx6kpvn8_SoV"
      },
      "source": [
        "## Define get_text_from_tweets( ) :\r\n",
        "this function below takes the twitter username (string) as input, then gets rid of special characters using regex, and returns tweets corresponding to that user in form of a string. \r\n",
        "\r\n",
        "In the main script, we have saved the scraped tweets as information.txt to adhere with the problem statement."
      ]
    },
    {
      "cell_type": "code",
      "metadata": {
        "id": "8_-aHRJDzz5n"
      },
      "source": [
        "twt = Twitter(app_key=\"PDz1fZLoCEHcOx035TtLsrcWS\", \r\n",
        "              app_secret=\"Ok1aJBP4nM6g87F3hFiPFY0R0a7qnUNsdIoKZteaAuzYF2yTuF\", \r\n",
        "              oauth_token=\"1292034807057149952-3Mlqa59ZAoqRdACgnW6z4goXUy3vUs\", \r\n",
        "              oauth_token_secret=\"ZZlu7jF3mymeapDxwj19MkqCYF3osQjp48xYEuIL4wRM1\")\r\n",
        "    \r\n",
        "def get_text_from_tweets(user_name):\r\n",
        "    print(\"processing text from tweets..\")\r\n",
        "    tweets = twt.user(user_name, \r\n",
        "                    count=1000, \r\n",
        "                    exclude_replies=False, \r\n",
        "                    include_retweets=True)\r\n",
        "        \r\n",
        "    to_csv(list(tweets), filename=user_name+'_tweets.csv')\r\n",
        "\r\n",
        "    tweets_df = pd.read_csv(user_name+\"_tweets.csv\")\r\n",
        "    just_tweets=tweets_df[[\"text\"]]\r\n",
        "    ##remove urls \r\n",
        "    no_urls = just_tweets['text'].apply(lambda x: re.split('https:\\/\\/.*', str(x))[0])\r\n",
        "    #just_text_from_tweets.head(50)\r\n",
        "    no_urls=no_urls.to_frame()\r\n",
        "\r\n",
        "    # convert rows to a string\r\n",
        "    tweets_string = \"\"\r\n",
        "    for idx,row in no_urls.iterrows():\r\n",
        "        tweets_string += (row['text'] + '. ')\r\n",
        "\r\n",
        "    clean_text = re.sub(\"[^A-Za-z0-9. ]\",\" \",tweets_string)\r\n",
        "    clean_text = clean_text.strip()\r\n",
        "    return(clean_text)\r\n"
      ],
      "execution_count": 48,
      "outputs": []
    },
    {
      "cell_type": "markdown",
      "metadata": {
        "id": "w6IFNlQUAEF2"
      },
      "source": [
        "## Define predict_personality( )\r\n",
        "This function accepts a string as input and returns an array of floats, each corresponding to one of 5 personality traits."
      ]
    },
    {
      "cell_type": "code",
      "metadata": {
        "id": "NuFhpYU8z9v7"
      },
      "source": [
        "def predict(X):\r\n",
        "        X=[X]\r\n",
        "        predictions = {}\r\n",
        "        traits = ['OPN', 'CON', 'EXT', 'AGR', 'NEU']\r\n",
        "        for trait in traits:\r\n",
        "            pkl_model = models[trait]\r\n",
        "            trait_scores = pkl_model.predict(X, regression=True).reshape(1, -1)\r\n",
        "            # scaler = MinMaxScaler(feature_range=(0, 50))\r\n",
        "            # print(scaler.fit_transform(trait_scores))\r\n",
        "            # scaled_trait_scores = scaler.fit_transform(trait_scores)\r\n",
        "            predictions['pred_s'+trait] = trait_scores.flatten()[0]\r\n",
        "            # predictions['pred_s'+trait] = scaled_trait_scores.flatten()\r\n",
        "\r\n",
        "            trait_categories = pkl_model.predict(X, regression=False)\r\n",
        "            predictions['pred_c'+trait] = str(trait_categories[0])\r\n",
        "            # predictions['pred_c'+trait] = trait_categories\r\n",
        "\r\n",
        "            trait_categories_probs = pkl_model.predict_proba(X)\r\n",
        "            predictions['pred_prob_c'+trait] = trait_categories_probs[:, 1][0]\r\n",
        "            # predictions['pred_prob_c'+trait] = trait_categories_probs[:, 1]\r\n",
        "        return predictions"
      ],
      "execution_count": 49,
      "outputs": []
    },
    {
      "cell_type": "markdown",
      "metadata": {
        "id": "0vMmBUvjAoLp"
      },
      "source": [
        "## Define display_results( ):\r\n",
        "This function plots a bar chart, representing each of the 5 OCEAN tendencies of the user."
      ]
    },
    {
      "cell_type": "code",
      "metadata": {
        "id": "PmU7sLWf2VzD"
      },
      "source": [
        "def display_results(predictions, user_name):\r\n",
        "    attrs = [predictions['pred_prob_cOPN'],\r\n",
        "             predictions['pred_prob_cCON'],\r\n",
        "             predictions['pred_prob_cEXT'],\r\n",
        "             predictions['pred_prob_cAGR'],\r\n",
        "             predictions['pred_prob_cNEU']]\r\n",
        "\r\n",
        "    plt.rcParams[\"figure.figsize\"] = (12, 6)\r\n",
        "    #plt.style.use('ggplot')\r\n",
        "    plt.ylim([0.0,1.0])\r\n",
        "    plt.bar(['Openness','Conscientiousness','Extraverison','Agreeableness','Neuroticism'],attrs, color =('green', 'black', 'pink', 'orange', 'yellow'), alpha=0.5)\r\n",
        "    plt.xlabel(\"Attribute\")\r\n",
        "    plt.ylabel(\"Tendency\")\r\n",
        "    plt.title(user_name+\"'s Personality Report\")\r\n",
        "    plt.grid()\r\n",
        "    plt.show()"
      ],
      "execution_count": 50,
      "outputs": []
    },
    {
      "cell_type": "markdown",
      "metadata": {
        "id": "RVE5llsPBHMF"
      },
      "source": [
        "##Moment of truth:\r\n",
        "Feel free to replace Elon Musk with Chetan Bhagat, Ratan Tata etc.\r\n"
      ]
    },
    {
      "cell_type": "code",
      "metadata": {
        "colab": {
          "base_uri": "https://localhost:8080/"
        },
        "id": "gnrzc3rO1KWk",
        "outputId": "f2c44979-bb2d-4520-bf8d-4c292c351695"
      },
      "source": [
        "user_name = get_profile(\"Elon Musk tesla spacex\")['twitter']\r\n",
        "text = get_text_from_tweets(user_name)\r\n",
        "predictions = predict(text)\r\n",
        "#display_results(predictions=predictions, user_name=user_name)"
      ],
      "execution_count": 51,
      "outputs": [
        {
          "output_type": "stream",
          "text": [
            "getting profiles from google..\n",
            "processing text from tweets..\n"
          ],
          "name": "stdout"
        }
      ]
    },
    {
      "cell_type": "code",
      "metadata": {
        "id": "Mj_krQsXVxTt",
        "colab": {
          "base_uri": "https://localhost:8080/",
          "height": 404
        },
        "outputId": "f0892f0d-fda7-4773-d9d1-88b2f0b80583"
      },
      "source": [
        "display_results(predictions=predictions, user_name=user_name)"
      ],
      "execution_count": 52,
      "outputs": [
        {
          "output_type": "display_data",
          "data": {
            "image/png": "[encoded data removed]",
            "text/plain": [
              "<Figure size 864x432 with 1 Axes>"
            ]
          },
          "metadata": {
            "tags": [],
            "needs_background": "light"
          }
        }
      ]
    },
    {
      "cell_type": "markdown",
      "metadata": {
        "id": "-hcLgL4hCTZq"
      },
      "source": [
        "The main script accepts a file names.txt, and generates 2 files, information.txt and predictions.txt\r\n",
        "\r\n",
        "Do check out the main script - https://github.com/Mainakdeb/e_summit"
      ]
    },
    {
      "cell_type": "code",
      "metadata": {
        "id": "jAIfRVHg0Wsx"
      },
      "source": [
        ""
      ],
      "execution_count": 35,
      "outputs": []
    }
  ]
}