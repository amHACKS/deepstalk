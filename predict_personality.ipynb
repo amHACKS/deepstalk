{
  "nbformat": 4,
  "nbformat_minor": 0,
  "metadata": {
    "colab": {
      "name": "Copy of temp3.ipynb",
      "provenance": [],
      "collapsed_sections": [],
      "include_colab_link": true
    },
    "kernelspec": {
      "name": "python3",
      "display_name": "Python 3"
    }
  },
  "cells": [
    {
      "cell_type": "markdown",
      "metadata": {
        "id": "view-in-github",
        "colab_type": "text"
      },
      "source": [
        "<a href=\"https://colab.research.google.com/github/Mainakdeb/e_summit/blob/main/predict_personality.ipynb\" target=\"_parent\"><img src=\"https://colab.research.google.com/assets/colab-badge.svg\" alt=\"Open In Colab\"/></a>"
      ]
    },
    {
      "cell_type": "code",
      "metadata": {
        "colab": {
          "base_uri": "https://localhost:8080/"
        },
        "id": "ZuzxUGdnqm4W",
        "outputId": "93285d9c-2470-4c01-ddcd-f9f6b6919664"
      },
      "source": [
        "!git clone https://github.com/Mainakdeb/e_summit.git"
      ],
      "execution_count": 1,
      "outputs": [
        {
          "output_type": "stream",
          "text": [
            "Cloning into 'e_summit'...\n",
            "remote: Enumerating objects: 136, done.\u001b[K\n",
            "remote: Counting objects: 100% (136/136), done.\u001b[K\n",
            "remote: Compressing objects: 100% (98/98), done.\u001b[K\n",
            "remote: Total 136 (delta 72), reused 87 (delta 34), pack-reused 0\u001b[K\n",
            "Receiving objects: 100% (136/136), 8.64 MiB | 11.94 MiB/s, done.\n",
            "Resolving deltas: 100% (72/72), done.\n"
          ],
          "name": "stdout"
        }
      ]
    },
    {
      "cell_type": "code",
      "metadata": {
        "id": "n3g4N-s9WuF3",
        "colab": {
          "base_uri": "https://localhost:8080/"
        },
        "outputId": "88061e96-ab35-4e2f-8e4e-a8bc40bdc8ba"
      },
      "source": [
        "!pip3 install socialreaper==0.3.0"
      ],
      "execution_count": 2,
      "outputs": [
        {
          "output_type": "stream",
          "text": [
            "Installing collected packages: socialreaper\n",
            "Successfully installed socialreaper-0.3.0\n"
          ],
          "name": "stdout"
        }
      ]
    },
    {
      "cell_type": "code",
      "metadata": {
        "id": "1ZcCFcfjShE_"
      },
      "source": [
        "import pickle\r\n",
        "from sklearn.feature_extraction.text import CountVectorizer\r\n",
        "import plotly.express as px\r\n",
        "import matplotlib.pyplot as plt\r\n",
        "import pandas as pd\r\n",
        "import re\r\n",
        "import numpy as np\r\n",
        "\r\n",
        "from socialreaper import Twitter\r\n",
        "from socialreaper.tools import to_csv\r\n",
        "import re\r\n",
        "from tqdm import tqdm_notebook\r\n",
        "import os\r\n",
        "import pandas as pd\r\n",
        "import time"
      ],
      "execution_count": 3,
      "outputs": []
    },
    {
      "cell_type": "code",
      "metadata": {
        "id": "d5x3gEshyylN"
      },
      "source": [
        "cEXT = pickle.load( open( \"/content/e_summit/models/cEXT.p\", \"rb\"))\r\n",
        "cNEU = pickle.load( open( \"/content/e_summit/models/cNEU.p\", \"rb\"))\r\n",
        "cAGR = pickle.load( open( \"/content/e_summit/models/cAGR.p\", \"rb\"))\r\n",
        "cCON = pickle.load( open( \"/content/e_summit/models/cCON.p\", \"rb\"))\r\n",
        "cOPN = pickle.load( open( \"/content/e_summit/models/cOPN.p\", \"rb\"))\r\n",
        "vectorizer_31 = pickle.load( open( \"/content/e_summit/models/vectorizer_31.p\", \"rb\"))\r\n",
        "vectorizer_30 = pickle.load( open( \"/content/e_summit/models/vectorizer_30.p\", \"rb\"))"
      ],
      "execution_count": null,
      "outputs": []
    },
    {
      "cell_type": "code",
      "metadata": {
        "id": "Kr03RPrZzMBD"
      },
      "source": [
        "from googlesearch import search\r\n",
        "import re\r\n",
        "\r\n",
        "def get_profile(keyword):\r\n",
        "  results = list(search(keyword, num=10))\r\n",
        "  profiles = {\r\n",
        "      'twitter': '',\r\n",
        "    #   'facebook': '',\r\n",
        "    #   'linkedin':''\r\n",
        "  }\r\n",
        "  for r in results:\r\n",
        "    if r.find('twitter') != -1 and profiles['twitter'] == '':\r\n",
        "      r = re.search(r'https://twitter.com/([^/?]+)', r).group(1)\r\n",
        "      profiles['twitter'] = r\r\n",
        "    # if r.find('facebook') != -1 and profiles['facebook'] == '':\r\n",
        "    #   r = re.search(r'https://www.facebook.com/([^/?]+)', r).group(1)\r\n",
        "    #   profiles['facebook'] = r\r\n",
        "    # if r.find('linkedin') != -1 and profiles['linkedin'] == '':\r\n",
        "    #   r = re.search(r'https://in.linkedin.com/in/([^/?]+)', r).group(1)\r\n",
        "    #   profiles['linkedin'] = r\r\n",
        "  return profiles"
      ],
      "execution_count": 10,
      "outputs": []
    },
    {
      "cell_type": "code",
      "metadata": {
        "id": "8_-aHRJDzz5n"
      },
      "source": [
        "twt = Twitter(app_key=\"PDz1fZLoCEHcOx035TtLsrcWS\", \r\n",
        "              app_secret=\"Ok1aJBP4nM6g87F3hFiPFY0R0a7qnUNsdIoKZteaAuzYF2yTuF\", \r\n",
        "              oauth_token=\"1292034807057149952-3Mlqa59ZAoqRdACgnW6z4goXUy3vUs\", \r\n",
        "              oauth_token_secret=\"ZZlu7jF3mymeapDxwj19MkqCYF3osQjp48xYEuIL4wRM1\")\r\n",
        "    \r\n",
        "def get_text_from_tweets(user_name):\r\n",
        "    tweets = twt.user(user_name, \r\n",
        "                    count=1000, \r\n",
        "                    exclude_replies=False, \r\n",
        "                    include_retweets=True)\r\n",
        "        \r\n",
        "    to_csv(list(tweets), filename=user_name+'_tweets.csv')\r\n",
        "\r\n",
        "    tweets_df = pd.read_csv(user_name+\"_tweets.csv\")\r\n",
        "    just_tweets=tweets_df[[\"text\"]]\r\n",
        "    ##remove urls \r\n",
        "    no_urls = just_tweets['text'].apply(lambda x: re.split('https:\\/\\/.*', str(x))[0])\r\n",
        "    #just_text_from_tweets.head(50)\r\n",
        "    no_urls=no_urls.to_frame()\r\n",
        "\r\n",
        "    # convert rows to a string\r\n",
        "    tweets_string = \"\"\r\n",
        "    for idx,row in no_urls.iterrows():\r\n",
        "        tweets_string += (row['text'] + '. ')\r\n",
        "\r\n",
        "    clean_text = re.sub(\"[^A-Za-z0-9. ]\",\" \",tweets_string)\r\n",
        "    clean_text = clean_text.strip()\r\n",
        "    return(clean_text)\r\n"
      ],
      "execution_count": 11,
      "outputs": []
    },
    {
      "cell_type": "code",
      "metadata": {
        "id": "NuFhpYU8z9v7"
      },
      "source": [
        "def predict_personality(text):\r\n",
        "    sentences = re.split(\"(?<=[.!?]) +\", text)\r\n",
        "    text_vector_31 = vectorizer_31.transform(sentences)\r\n",
        "    text_vector_30 = vectorizer_30.transform(sentences)\r\n",
        "    EXT = cEXT.predict(text_vector_31)\r\n",
        "    NEU = cNEU.predict(text_vector_30)\r\n",
        "    AGR = cAGR.predict(text_vector_31)\r\n",
        "    CON = cCON.predict(text_vector_31)\r\n",
        "    OPN = cOPN.predict(text_vector_31)\r\n",
        "    return [np.mean(EXT), np.mean(NEU), np.mean(AGR), np.mean(CON), np.mean(OPN)]"
      ],
      "execution_count": 19,
      "outputs": []
    },
    {
      "cell_type": "code",
      "metadata": {
        "id": "PmU7sLWf2VzD"
      },
      "source": [
        "def display_results(text, user_name):\r\n",
        "    predictions = predict_personality(text)\r\n",
        "    #print(\"predicted personality:\", predictions)\r\n",
        "    df = pd.DataFrame(dict(r=predictions, theta=['EXT','NEU','AGR', 'CON', 'OPN']))\r\n",
        "    attrs = list(df['r'])\r\n",
        "    plt.rcParams[\"figure.figsize\"] = (12, 6)\r\n",
        "    plt.style.use('ggplot')\r\n",
        "    plt.bar(['EXT','NEU','AGR', 'CON', 'OPN'],attrs, color ='green', alpha=0.5)\r\n",
        "    plt.xlabel(\"Attribute\")\r\n",
        "    plt.ylabel(\"Tendency\")\r\n",
        "    plt.title(user_name+\"'s Personality Report\")\r\n",
        "    plt.show()"
      ],
      "execution_count": 20,
      "outputs": []
    },
    {
      "cell_type": "code",
      "metadata": {
        "id": "gnrzc3rO1KWk"
      },
      "source": [
        "#try Narendra Modi, Ratan Tata, Chetan Bhagat\r\n",
        "user_name = get_profile(\"Chetan Bhagat\")['twitter']\r\n",
        "text = get_text_from_tweets(user_name)"
      ],
      "execution_count": 21,
      "outputs": []
    },
    {
      "cell_type": "code",
      "metadata": {
        "colab": {
          "base_uri": "https://localhost:8080/",
          "height": 408
        },
        "id": "9V0ByAGn2JWc",
        "outputId": "44277b73-c721-4b35-fed4-b3677af47a0c"
      },
      "source": [
        "display_results(text=text, user_name=user_name)"
      ],
      "execution_count": 22,
      "outputs": [
        {
          "output_type": "display_data",
          "data": {
            "image/png": "[encoded data removed]",
            "text/plain": [
              "<Figure size 864x432 with 1 Axes>"
            ]
          },
          "metadata": {
            "tags": []
          }
        }
      ]
    },
    {
      "cell_type": "code",
      "metadata": {
        "id": "jAIfRVHg0Wsx"
      },
      "source": [
        ""
      ],
      "execution_count": 15,
      "outputs": []
    }
  ]
}